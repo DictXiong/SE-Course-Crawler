{
 "cells": [
  {
   "cell_type": "code",
   "execution_count": 1,
   "metadata": {},
   "outputs": [],
   "source": [
    "# -*- coding: utf-8 -*-\n",
    "import requests\n",
    "import time\n",
    "import pandas as pd\n",
    "class WeChatArticlesInfo(object):\n",
    "    \"\"\"\n",
    "    获取微信公众号的推文信息\n",
    "    \"\"\"\n",
    "    COLUMNS = ['aid', 'title', 'cover_url', 'abstract', 'url', 'time']\n",
    "    INFO_KEY = \"app_msg_list\"\n",
    "    COUNT_KEY = \"app_msg_cnt\"\n",
    "    def __init__(self, cookie:str, token:str):\n",
    "        \"\"\"\n",
    "        Parameter:\n",
    "            cookie: str\n",
    "            token: str\n",
    "        \"\"\"\n",
    "        self.sess = requests.session()\n",
    "        self.search_url = \"https://mp.weixin.qq.com/cgi-bin/searchbiz\"\n",
    "        self.appmsg_url = \"https://mp.weixin.qq.com/cgi-bin/appmsg\"\n",
    "        self.headers = {\n",
    "            \"Cookie\": cookie,\n",
    "            \"User-Agent\": \"Mozilla/5.0 (Windows NT 10.0; Win64; x64) AppleWebKit/537.36 (KHTML, like Gecko) Chrome/62.0.3202.62 Safari/537.36\"\n",
    "        }\n",
    "        self.params = {\n",
    "            \"lang\": \"zh_CN\",\n",
    "            \"f\": \"json\",\n",
    "            \"token\": token\n",
    "        }\n",
    "        self.fakeid = {}\n",
    "\n",
    "    def get_basic_info(self, name:str, begin:int=0, count:int=5):\n",
    "        \"\"\"\n",
    "        查找公众号基础信息，主要用于获取fakeid进行下一步的获取\n",
    "        Parameter:\n",
    "            name: str, 公众号名称，尽可能准确\n",
    "            begin: int, 起始页数\n",
    "            count: int, 数量，1-5\n",
    "\n",
    "        Return:\n",
    "            list\n",
    "        \"\"\"\n",
    "        params = {\n",
    "            \"query\": name,\n",
    "            \"count\": str(count),\n",
    "            \"action\": \"search_biz\",\n",
    "            \"ajax\": \"1\",\n",
    "            \"begin\": str(begin)\n",
    "        }\n",
    "        self.params.update(params)\n",
    "        # 公众号名称一定要准确，否则排序上会出问题\n",
    "        result = self.sess.get(self.search_url,\n",
    "                                 headers=self.headers,\n",
    "                                 params=self.params)\n",
    "        return result.json()[\"list\"]\n",
    "\n",
    "    def __get_articles_info(self, name:str, begin:int, count:int=5):\n",
    "        \"\"\"\n",
    "        获取公众号文章的信息，包含url(key: link)可用于后续爬取\n",
    "        Parameters:\n",
    "            name: str, 公众号名称，尽可能准确\n",
    "            begin: int, 起始页数\n",
    "            count: int, 数量，1-5\n",
    "        Returns\n",
    "            json\n",
    "            important keys:\n",
    "            \"app_msg_list\": 公众号文章信息\n",
    "            \"app_msg_cnt\": 公众号文章总数\n",
    "        \"\"\"\n",
    "        fakeid = self.fakeid.get(name, None)\n",
    "        if fakeid is None:\n",
    "            self.fakeid[name] = self.get_basic_info(name)[0][\"fakeid\"]\n",
    "            fakeid = self.fakeid[name]\n",
    "        params = {\n",
    "            \"fakeid\": fakeid,\n",
    "            \"query\": \"\",\n",
    "            \"begin\": str(begin),\n",
    "            \"count\": str(count),\n",
    "            \"type\": \"9\",\n",
    "            \"action\": \"list_ex\"\n",
    "        }\n",
    "        self.params.update(params)\n",
    "        data = self.sess.get(self.appmsg_url, headers=self.headers, params=self.params)\n",
    "        return data.json()\n",
    "    \n",
    "    def get_articles_info_step(self, name:str, begin:int=0, count:int=5):\n",
    "        \"\"\"\n",
    "        查找并提取文章的信息\n",
    "        Parameter:\n",
    "            name: str, 公众号名称，尽可能准确\n",
    "            begin: int, 起始页数\n",
    "            count: int, 数量，1-5\n",
    "\n",
    "        Return:\n",
    "            list\n",
    "        \"\"\"\n",
    "        data = self.__get_articles_info(name=name, begin=begin, count=count)[WeChatArticlesInfo.INFO_KEY]\n",
    "        map_dict = {'aid': 'aid',\n",
    "                    'title': 'title', \n",
    "                    'cover_url': 'cover',\n",
    "                    'abstract': 'digest',\n",
    "                    'url': 'link', \n",
    "                    'time': 'update_time'}\n",
    "        data = [{key: x[map_dict[key]] for key in map_dict} for x in data]\n",
    "        return data\n",
    "    \n",
    "    def get_articles_info(self, name:str, begin:int=0, count:int=15):\n",
    "        \"\"\"\n",
    "        查找并提取文章的信息\n",
    "        Parameter:\n",
    "            name: str, 公众号名称，尽可能准确\n",
    "            begin: int, 起始页数\n",
    "            count: int, 数量\n",
    "            endtimestamp: int，终止的timestamp\n",
    "\n",
    "        Return:\n",
    "            pd.DataFrame\n",
    "        \"\"\"\n",
    "        nsteps = int(count / 5) + 1\n",
    "        step = 0\n",
    "        data = []\n",
    "        while 5 * step < count:\n",
    "            data.extend(self.get_articles_info_step(name, 5*step, 5))\n",
    "            step = step + 1\n",
    "            #time.sleep(0.01)\n",
    "        return pd.DataFrame.from_records(data)\n",
    "\n",
    "cookie = \"appmsglist_action_3885044594=card; pgv_pvid=9077891912; pgv_pvi=2132619264; RK=yFyYv1ZTW1; ptcz=43a2e5542ef329277f931eca3fc8448e476d0396534226771eeb312b19b7d460; ua_id=6pa7LEid8uNGYVXmAAAAAHSKaOBDMqhtf9ENX0Ig2MI=; mm_lang=zh_CN; eas_sid=j135z8e1P57130610504j4c126; tvfe_boss_uuid=ba8bb21b5b9dd930; o_cookie=971813059; pac_uid=1_971813059; ied_qq=o0971813059; openid2ticket_ochOR50hKgGUzeW0YjvmEs1Q39p8=cpHBN07q/9nsGgs8gO5fOjT3p72yZNUcLXnjH0JhPeI=; iip=0; uin_cookie=o0971813059; openid2ticket_oG3em0cZw6NcqvCbQkhZ-oPMqXR8=IYJnlAgO8rEbqqW5ENs+aZ+y7J1DYGAnl1ben4vlfZc=; pgv_si=s9294711808; uuid=e61f7e83ae47cd9e0420494acbf9caec; rand_info=CAESIM12mkr54gTzxX9jy/V23oLPf29G8omPqb3qWXzXrluN; slave_bizuin=3885044594; data_bizuin=3885044594; bizuin=3885044594; data_ticket=Dtzdzwt43k70ixV2IuaT1a728QdUo/p9/zTUiUnTf+Gy6PtFjOFLNuAjKA1qMY1M; slave_sid=NmNzS0NjNUQyaFJvT0tKbWxWMkh0dkxsVUFsWlF5WVhiemR2aTRIM05pV1ZfcWl6SndGM2h6TEp3U0g3cWpfQ2JpcHVQT3gxNFVXZG9UTmVyUDg5ZW5fMjFEcHFsNllYcGZ3NDRYZ213dURJeGJTUVY3Z1lFdk5FN0p4cEJKZGRZMmFEbnNJUWVheVlxYnFP; slave_user=gh_3aea65724b37; xid=\"\n",
    "token = \"1744312947\""
   ]
  },
  {
   "cell_type": "code",
   "execution_count": 6,
   "metadata": {},
   "outputs": [],
   "source": [
    "wechatarticle = WeChatArticlesInfo(cookie=cookie, token=token)"
   ]
  },
  {
   "cell_type": "code",
   "execution_count": 7,
   "metadata": {},
   "outputs": [],
   "source": [
    "result = wechatarticle.get_articles_info(\"清华大学\", begin=0, count=20)"
   ]
  },
  {
   "cell_type": "code",
   "execution_count": 8,
   "metadata": {},
   "outputs": [
    {
     "output_type": "execute_result",
     "data": {
      "text/plain": [
       "            aid                                              title  \\\n",
       "0  2659222233_1                         清华大学计算机系张悠慧团队首次提出“类脑计算完备性”   \n",
       "1  2659222230_1  两位清华人获深圳经济特区建立40周年创新创业人物和先进模范人物表彰 | 陈旭参加深圳经济特区...   \n",
       "2  2659222210_1           20所中美高校参加“中美大学校长云论坛” 共商建设更开放、更融合、更有韧性的大学   \n",
       "3  2659222163_1                                      融合式教学，一个都不能少！   \n",
       "4  2659222162_1                                                早知道   \n",
       "\n",
       "                                           cover_url   abstract  \\\n",
       "0  https://mmbiz.qlogo.cn/mmbiz_jpg/HhoEMZZMsiaSz...              \n",
       "1  https://mmbiz.qlogo.cn/mmbiz_jpg/HhoEMZZMsiaSz...              \n",
       "2  https://mmbiz.qlogo.cn/mmbiz_jpg/HhoEMZZMsiaT2...              \n",
       "3  https://mmbiz.qlogo.cn/mmbiz_jpg/HhoEMZZMsiaTi...  千里之外，天涯咫尺   \n",
       "4  https://mmbiz.qlogo.cn/mmbiz_jpg/HhoEMZZMsiaRk...              \n",
       "\n",
       "                                                 url        time  \n",
       "0  http://mp.weixin.qq.com/s?__biz=MzA4OTIyMzgxMw...  1602804420  \n",
       "1  http://mp.weixin.qq.com/s?__biz=MzA4OTIyMzgxMw...  1602743207  \n",
       "2  http://mp.weixin.qq.com/s?__biz=MzA4OTIyMzgxMw...  1602691028  \n",
       "3  http://mp.weixin.qq.com/s?__biz=MzA4OTIyMzgxMw...  1602575215  \n",
       "4  http://mp.weixin.qq.com/s?__biz=MzA4OTIyMzgxMw...  1602460860  "
      ],
      "text/html": "<div>\n<style scoped>\n    .dataframe tbody tr th:only-of-type {\n        vertical-align: middle;\n    }\n\n    .dataframe tbody tr th {\n        vertical-align: top;\n    }\n\n    .dataframe thead th {\n        text-align: right;\n    }\n</style>\n<table border=\"1\" class=\"dataframe\">\n  <thead>\n    <tr style=\"text-align: right;\">\n      <th></th>\n      <th>aid</th>\n      <th>title</th>\n      <th>cover_url</th>\n      <th>abstract</th>\n      <th>url</th>\n      <th>time</th>\n    </tr>\n  </thead>\n  <tbody>\n    <tr>\n      <th>0</th>\n      <td>2659222233_1</td>\n      <td>清华大学计算机系张悠慧团队首次提出“类脑计算完备性”</td>\n      <td>https://mmbiz.qlogo.cn/mmbiz_jpg/HhoEMZZMsiaSz...</td>\n      <td></td>\n      <td>http://mp.weixin.qq.com/s?__biz=MzA4OTIyMzgxMw...</td>\n      <td>1602804420</td>\n    </tr>\n    <tr>\n      <th>1</th>\n      <td>2659222230_1</td>\n      <td>两位清华人获深圳经济特区建立40周年创新创业人物和先进模范人物表彰 | 陈旭参加深圳经济特区...</td>\n      <td>https://mmbiz.qlogo.cn/mmbiz_jpg/HhoEMZZMsiaSz...</td>\n      <td></td>\n      <td>http://mp.weixin.qq.com/s?__biz=MzA4OTIyMzgxMw...</td>\n      <td>1602743207</td>\n    </tr>\n    <tr>\n      <th>2</th>\n      <td>2659222210_1</td>\n      <td>20所中美高校参加“中美大学校长云论坛” 共商建设更开放、更融合、更有韧性的大学</td>\n      <td>https://mmbiz.qlogo.cn/mmbiz_jpg/HhoEMZZMsiaT2...</td>\n      <td></td>\n      <td>http://mp.weixin.qq.com/s?__biz=MzA4OTIyMzgxMw...</td>\n      <td>1602691028</td>\n    </tr>\n    <tr>\n      <th>3</th>\n      <td>2659222163_1</td>\n      <td>融合式教学，一个都不能少！</td>\n      <td>https://mmbiz.qlogo.cn/mmbiz_jpg/HhoEMZZMsiaTi...</td>\n      <td>千里之外，天涯咫尺</td>\n      <td>http://mp.weixin.qq.com/s?__biz=MzA4OTIyMzgxMw...</td>\n      <td>1602575215</td>\n    </tr>\n    <tr>\n      <th>4</th>\n      <td>2659222162_1</td>\n      <td>早知道</td>\n      <td>https://mmbiz.qlogo.cn/mmbiz_jpg/HhoEMZZMsiaRk...</td>\n      <td></td>\n      <td>http://mp.weixin.qq.com/s?__biz=MzA4OTIyMzgxMw...</td>\n      <td>1602460860</td>\n    </tr>\n  </tbody>\n</table>\n</div>"
     },
     "metadata": {},
     "execution_count": 8
    }
   ],
   "source": [
    "result.head()"
   ]
  },
  {
   "cell_type": "code",
   "execution_count": 9,
   "metadata": {},
   "outputs": [
    {
     "output_type": "execute_result",
     "data": {
      "text/plain": [
       "'http://mp.weixin.qq.com/s?__biz=MzA4OTIyMzgxMw==&mid=2659222233&idx=1&sn=95daca442349c60391652f7c61f2f98a&chksm=8b6a0533bc1d8c25cfb7b8fbce48ee54c510d96f03c4c44b79d82d75b9b9ea5cb1dac8dff2a7#rd'"
      ]
     },
     "metadata": {},
     "execution_count": 9
    }
   ],
   "source": [
    "result.loc[0]['url']"
   ]
  },
  {
   "cell_type": "code",
   "execution_count": 10,
   "metadata": {},
   "outputs": [],
   "source": [
    "pb = []\n",
    "for i in range(10):\n",
    "    pb.extend(wechatarticle.get_basic_info(\"清华大学\", i*5, (i+1)*5))"
   ]
  },
  {
   "cell_type": "code",
   "execution_count": 13,
   "metadata": {},
   "outputs": [
    {
     "output_type": "execute_result",
     "data": {
      "text/plain": [
       "['iCenter清华大学创客空间',\n",
       " '清华大学',\n",
       " '清华大学CIDEG',\n",
       " '清华大学MEM教育中心',\n",
       " '清华大学丘成桐数学科学中心',\n",
       " '清华大学中国农村研究院',\n",
       " '清华大学互联网产业研究院',\n",
       " '清华大学五道口金融学院',\n",
       " '清华大学体育代表队',\n",
       " '清华大学公共管理学院',\n",
       " '清华大学出版社',\n",
       " '清华大学出版社教学服务平台',\n",
       " '清华大学医学院',\n",
       " '清华大学医院',\n",
       " '清华大学国情研究院',\n",
       " '清华大学国际与地区研究院',\n",
       " '清华大学国际教育',\n",
       " '清华大学图书馆',\n",
       " '清华大学天津高端装备研究院',\n",
       " '清华大学学生会',\n",
       " '清华大学学生公益',\n",
       " '清华大学学生社团',\n",
       " '清华大学学生艺术团',\n",
       " '清华大学小研在线',\n",
       " '清华大学小研在身边',\n",
       " '清华大学工业工程系',\n",
       " '清华大学建筑学院',\n",
       " '清华大学建筑学院景观学系',\n",
       " '清华大学建筑节能研究中心',\n",
       " '清华大学心理学系',\n",
       " '清华大学教育基金会',\n",
       " '清华大学教育研究',\n",
       " '清华大学文体之声',\n",
       " '清华大学文化经济研究院',\n",
       " '清华大学新清华学堂',\n",
       " '清华大学新雅书院',\n",
       " '清华大学法学院',\n",
       " '清华大学深圳国际研究生院',\n",
       " '清华大学清新时报',\n",
       " '清华大学玉泉医院妇产科',\n",
       " '清华大学研究生教育',\n",
       " '清华大学社会实践',\n",
       " '清华大学积极心理学中心',\n",
       " '清华大学经济管理学院',\n",
       " '清华大学美术学院',\n",
       " '清华大学艺术博物馆',\n",
       " '清华大学苏世民书院',\n",
       " '清华大学藤影荷声',\n",
       " '清华大学计算机系校友会',\n",
       " '清华大学附属中学',\n",
       " '清华大学附属中学上地学校',\n",
       " '清华大学附属中学朝阳学校',\n",
       " '清华大学附属中学永丰学校',\n",
       " '清华大学附属北京清华长庚医院',\n",
       " '清华大学附属小学']"
      ]
     },
     "metadata": {},
     "execution_count": 13
    }
   ],
   "source": [
    "sorted(list(set([x['nickname'] for x in pb])))"
   ]
  },
  {
   "cell_type": "code",
   "execution_count": null,
   "metadata": {},
   "outputs": [],
   "source": []
  }
 ],
 "metadata": {
  "kernelspec": {
   "display_name": "Python 3",
   "language": "python",
   "name": "python3"
  },
  "language_info": {
   "codemirror_mode": {
    "name": "ipython",
    "version": 3
   },
   "file_extension": ".py",
   "mimetype": "text/x-python",
   "name": "python",
   "nbconvert_exporter": "python",
   "pygments_lexer": "ipython3",
   "version": "3.8.3-final"
  }
 },
 "nbformat": 4,
 "nbformat_minor": 4
}