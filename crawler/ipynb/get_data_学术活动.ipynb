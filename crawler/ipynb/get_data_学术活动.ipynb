{
 "cells": [
  {
   "cell_type": "code",
   "execution_count": 3,
   "metadata": {},
   "outputs": [],
   "source": [
    "import re\n",
    "import requests\n",
    "from bs4 import BeautifulSoup\n",
    "import pandas as pd"
   ]
  },
  {
   "cell_type": "code",
   "execution_count": 22,
   "metadata": {},
   "outputs": [],
   "source": [
    "class LecturesData(object):\n",
    "    '''\n",
    "    获取讲座的信息\n",
    "    '''\n",
    "    COLUMNS = ['title', 'reporter', 'time', 'place', 'holder']\n",
    "    def __init__(self):\n",
    "        self.root_url = \"https://kyybgxx.cic.tsinghua.edu.cn/kybg/xsgg/\"\n",
    "        self.root = requests.get(self.root_url)\n",
    "        self.root_bs = BeautifulSoup(self.root.text, 'lxml')\n",
    "        self.raw_columns = ['报告题目:', '报告人:', '报告时间:', '报告地点:', '主办单位:', '简介:', '链接:']\n",
    "        self.columns = ['title', 'reporter', 'time', 'place', 'holder', 'abstract', 'url']\n",
    "        self.col_dict = dict(zip(self.raw_columns, self.columns))\n",
    "    \n",
    "    def get_lectures_details(self, detail_url:str):\n",
    "        \"\"\"\n",
    "        根据传入的讲座详情页url进行解析，提取出指定的列\n",
    "        Parameter:\n",
    "            detail_url: str, 详情网页的url\n",
    "\n",
    "        Return:\n",
    "            dict\n",
    "        \"\"\"\n",
    "        detail_page=requests.get(detail_url)\n",
    "        detail_bs = BeautifulSoup(detail_page.text, 'lxml')\n",
    "        detail_trs = detail_bs.find_all('tr')\n",
    "        detail_tr_dict = {}\n",
    "        for tr in detail_trs:\n",
    "            tds = tr.find_all('td')\n",
    "            if len(tds) <= 0:\n",
    "                continue\n",
    "            node = tds[0].find('div')\n",
    "            if node is not None and node.string is not None:\n",
    "                s = node.string.strip()\n",
    "                if s in self.raw_columns:\n",
    "                    col = self.col_dict[s]\n",
    "                    if col == 'abstract':\n",
    "                        detail_tr_dict['abstract'] = ' '.join(tds[1].text.split())\n",
    "                    else:\n",
    "                        detail_tr_dict[col] = tds[1].string\n",
    "        detail_tr_dict['url'] = detail_url\n",
    "        return detail_tr_dict\n",
    "\n",
    "    def get_lectures_tag(self, tag_node, page_count:int=-1):\n",
    "        \"\"\"\n",
    "        根据传入的讲座tag的node进行解析\n",
    "        Parameter:\n",
    "            tag_node: bs4.element.Tag, \n",
    "            page_count: int, 读取的页数 \n",
    "\n",
    "        Return:\n",
    "            list of dict\n",
    "        \"\"\"\n",
    "        tag_data_list=[]\n",
    "        tag = tag_node.string\n",
    "        tag_url = tag_node['href']\n",
    "        tag_url = self.root_url + tag_url\n",
    "        tag_page = requests.get(tag_url)\n",
    "        count = 0\n",
    "        while True:\n",
    "            tag_bs = BeautifulSoup(tag_page.text, 'lxml')\n",
    "            lec_trs = tag_bs.find_all('tr')\n",
    "            ccc=0\n",
    "            for tr in lec_trs:\n",
    "                # if tr.get('bgcolor', None) is None or tr.get('class', None) is not None:\n",
    "                #     continue\n",
    "                tds = tr.find_all('td')\n",
    "                if tds is None or len(tds) < 2:\n",
    "                    continue\n",
    "                a = tds[1].find('a')\n",
    "                if a is None:\n",
    "                    continue\n",
    "                detail_url = a.get('href')\n",
    "                if 'detail' not in detail_url:\n",
    "                    continue\n",
    "                detail_url = self.root_url + detail_url\n",
    "                print(detail_url)\n",
    "                tag_data_list.append(self.get_lectures_details(detail_url))\n",
    "                # 测试用代码，限制读取条数减少用时\n",
    "                # if len(tag_data_list) > 4:\n",
    "                #     print(pd.DataFrame(tag_data_list))\n",
    "                #     break\n",
    "            nextpage_node=tag_bs.find('a', string=re.compile('.*下.*页.*'))\n",
    "            if nextpage_node is None:\n",
    "                break\n",
    "            nextpage_url = self.root_url + nextpage_node['href']\n",
    "            tag_page = requests.get(nextpage_url)\n",
    "            count += 1\n",
    "            if page_count > 0 and count >= page_count:\n",
    "                break\n",
    "        return tag_data_list\n",
    "\n",
    "    def get_lectures_data(self, tag_count:int=-1, page_count:int=-1):\n",
    "        \"\"\"\n",
    "        读取分tag的讲座信息\n",
    "        Parameter:\n",
    "            tag_count: int, 读取的tag数 \n",
    "            page_count: int, 读取的页数 \n",
    "\n",
    "        Return:\n",
    "            dict of pd.DataFrame\n",
    "        \"\"\"\n",
    "        root_trs = self.root_bs.find_all(name='td', id=re.compile(\"category[0-9][0-9][0-9][0-9].+\"))\n",
    "        data_dict = {}\n",
    "        count = 0\n",
    "        for tag_root in root_trs:\n",
    "            tag_data_list = []\n",
    "            tag_node = tag_root.find('a')\n",
    "            if tag_node is None:\n",
    "                break\n",
    "            tag = tag_node.string\n",
    "            data_dict[tag] = []\n",
    "            data_dict[tag] = pd.DataFrame.from_records(self.get_lectures_tag(tag_node, page_count))\n",
    "            count += 1\n",
    "            if count >= tag_count:\n",
    "                break\n",
    "        return data_dict"
   ]
  },
  {
   "cell_type": "code",
   "execution_count": 23,
   "metadata": {},
   "outputs": [],
   "source": [
    "lectureinfo = LecturesData()"
   ]
  },
  {
   "cell_type": "code",
   "execution_count": 24,
   "metadata": {},
   "outputs": [
    {
     "output_type": "stream",
     "name": "stdout",
     "text": [
      "https://kyybgxx.cic.tsinghua.edu.cn/kybg/xsgg/detail.jsp?seq=20607&boardid=35&pageno=\n",
      "https://kyybgxx.cic.tsinghua.edu.cn/kybg/xsgg/detail.jsp?seq=20613&boardid=35&pageno=\n",
      "https://kyybgxx.cic.tsinghua.edu.cn/kybg/xsgg/detail.jsp?seq=20596&boardid=35&pageno=\n",
      "https://kyybgxx.cic.tsinghua.edu.cn/kybg/xsgg/detail.jsp?seq=20582&boardid=35&pageno=\n",
      "https://kyybgxx.cic.tsinghua.edu.cn/kybg/xsgg/detail.jsp?seq=20566&boardid=35&pageno=\n",
      "                                               title       reporter  \\\n",
      "0                                       为学四问之一：“为何学”            谢维和   \n",
      "1  国有企业党的建设工作研讨会----暨习近平总书记在全国国有企业党的建设工作会议发表重要讲话4...       李耀强、刘新刚等   \n",
      "2                                 论坛预告｜计算器具：过去、现在与未来  第二届清华科学博物馆学论坛   \n",
      "3                                后五四时期中国精神人文主义的建构性探索             李萍   \n",
      "4                      讲座预告 | 中美风暴下的风险与对策-金融EMBA师友沙龙         鞠建东教授等   \n",
      "\n",
      "               time          place                 holder  \\\n",
      "0  2020-10-22 14:00             待定                  教育研究院   \n",
      "1  2020-10-11 08:30  清华大学廖凯原楼（法学院）        清华大学中国现代国有企业研究院   \n",
      "2  2020-09-24 11:00     蒙民伟人文楼B206  清华大学科学博物馆（筹）、清华大学科学史系   \n",
      "3  2020-09-18 15:30     清华大学四教4206                马克思主义学院   \n",
      "4  2020-09-12 20:00             线上          清华五道口金融EMBA中心   \n",
      "\n",
      "                                            abstract  \\\n",
      "0  讲座主题：为学四问之一 | “为何学”主讲人：谢维和教授 清华大学校务委员会副主任、文科资深...   \n",
      "1  经管学院第202001号国有企业党的建设工作研讨会----暨习近平总书记在全国国有企业党的建...   \n",
      "2  清华科学博物馆学论坛是以科学博物馆学和科学仪器史研究为主题的学术活动，由清华大学科学博物馆（...   \n",
      "3  德育名家大讲堂 第6期后五四时期中国精神人文主义的建构性探索主讲人：吴潜涛 教授 时间：9月...   \n",
      "4  2020年以来，美国总统大选临近，叠合新冠疫情、经济衰退和种族骚乱等影响，美国逐步升级了对中...   \n",
      "\n",
      "                                                 url  \n",
      "0  https://kyybgxx.cic.tsinghua.edu.cn/kybg/xsgg/...  \n",
      "1  https://kyybgxx.cic.tsinghua.edu.cn/kybg/xsgg/...  \n",
      "2  https://kyybgxx.cic.tsinghua.edu.cn/kybg/xsgg/...  \n",
      "3  https://kyybgxx.cic.tsinghua.edu.cn/kybg/xsgg/...  \n",
      "4  https://kyybgxx.cic.tsinghua.edu.cn/kybg/xsgg/...  \n",
      "1\n",
      "https://kyybgxx.cic.tsinghua.edu.cn/kybg/xsgg/detail.jsp?seq=20307&boardid=35&pageno=2\n",
      "                                               title       reporter  \\\n",
      "0                                       为学四问之一：“为何学”            谢维和   \n",
      "1  国有企业党的建设工作研讨会----暨习近平总书记在全国国有企业党的建设工作会议发表重要讲话4...       李耀强、刘新刚等   \n",
      "2                                 论坛预告｜计算器具：过去、现在与未来  第二届清华科学博物馆学论坛   \n",
      "3                                后五四时期中国精神人文主义的建构性探索             李萍   \n",
      "4                      讲座预告 | 中美风暴下的风险与对策-金融EMBA师友沙龙         鞠建东教授等   \n",
      "5                           执简驭繁，匠心天工——论晚商时期的青铜铸造与生产            刘煜    \n",
      "\n",
      "               time          place                 holder  \\\n",
      "0  2020-10-22 14:00             待定                  教育研究院   \n",
      "1  2020-10-11 08:30  清华大学廖凯原楼（法学院）        清华大学中国现代国有企业研究院   \n",
      "2  2020-09-24 11:00     蒙民伟人文楼B206  清华大学科学博物馆（筹）、清华大学科学史系   \n",
      "3  2020-09-18 15:30     清华大学四教4206                马克思主义学院   \n",
      "4  2020-09-12 20:00             线上          清华五道口金融EMBA中心   \n",
      "5  2019-11-15 15:00        人文楼B206               人文学院科学史系   \n",
      "\n",
      "                                            abstract  \\\n",
      "0  讲座主题：为学四问之一 | “为何学”主讲人：谢维和教授 清华大学校务委员会副主任、文科资深...   \n",
      "1  经管学院第202001号国有企业党的建设工作研讨会----暨习近平总书记在全国国有企业党的建...   \n",
      "2  清华科学博物馆学论坛是以科学博物馆学和科学仪器史研究为主题的学术活动，由清华大学科学博物馆（...   \n",
      "3  德育名家大讲堂 第6期后五四时期中国精神人文主义的建构性探索主讲人：吴潜涛 教授 时间：9月...   \n",
      "4  2020年以来，美国总统大选临近，叠合新冠疫情、经济衰退和种族骚乱等影响，美国逐步升级了对中...   \n",
      "5  中国曾经历一个辉煌的“青铜时代”，青铜器在其间的重要性是任何一个其他古代文明都无可比拟的。它...   \n",
      "\n",
      "                                                 url  \n",
      "0  https://kyybgxx.cic.tsinghua.edu.cn/kybg/xsgg/...  \n",
      "1  https://kyybgxx.cic.tsinghua.edu.cn/kybg/xsgg/...  \n",
      "2  https://kyybgxx.cic.tsinghua.edu.cn/kybg/xsgg/...  \n",
      "3  https://kyybgxx.cic.tsinghua.edu.cn/kybg/xsgg/...  \n",
      "4  https://kyybgxx.cic.tsinghua.edu.cn/kybg/xsgg/...  \n",
      "5  https://kyybgxx.cic.tsinghua.edu.cn/kybg/xsgg/...  \n",
      "2\n",
      "https://kyybgxx.cic.tsinghua.edu.cn/kybg/xsgg/detail.jsp?seq=20613&boardid=35&pageno=\n",
      "https://kyybgxx.cic.tsinghua.edu.cn/kybg/xsgg/detail.jsp?seq=20566&boardid=35&pageno=\n",
      "https://kyybgxx.cic.tsinghua.edu.cn/kybg/xsgg/detail.jsp?seq=20372&boardid=35&pageno=\n",
      "https://kyybgxx.cic.tsinghua.edu.cn/kybg/xsgg/detail.jsp?seq=20420&boardid=35&pageno=\n",
      "https://kyybgxx.cic.tsinghua.edu.cn/kybg/xsgg/detail.jsp?seq=20384&boardid=35&pageno=\n",
      "                                               title           reporter  \\\n",
      "0  国有企业党的建设工作研讨会----暨习近平总书记在全国国有企业党的建设工作会议发表重要讲话4...           李耀强、刘新刚等   \n",
      "1                      讲座预告 | 中美风暴下的风险与对策-金融EMBA师友沙龙             鞠建东教授等   \n",
      "2                                     2019中国金融科技学术年会               None   \n",
      "3                                    名师微沙龙：文科PI系列第一场                 仇军   \n",
      "4                                        清华五道口金融家大讲堂  Sheila M'Mbijjewe   \n",
      "\n",
      "               time             place           holder  \\\n",
      "0  2020-10-11 08:30     清华大学廖凯原楼（法学院）  清华大学中国现代国有企业研究院   \n",
      "1  2020-09-12 20:00                线上    清华五道口金融EMBA中心   \n",
      "2  2019-12-21 08:30            北京香山饭店             None   \n",
      "3  2019-12-11 16:30    李文正图书馆负一层邺架轩书店            文科建设处   \n",
      "4  2019-12-10 16:00  清华大学五道口金融学院1-200     清华大学五道口金融学院    \n",
      "\n",
      "                                            abstract  \\\n",
      "0  经管学院第202001号国有企业党的建设工作研讨会----暨习近平总书记在全国国有企业党的建...   \n",
      "1  2020年以来，美国总统大选临近，叠合新冠疫情、经济衰退和种族骚乱等影响，美国逐步升级了对中...   \n",
      "2  为促进金融科技研究，推动中国金融科技的健康稳定和可持续发展，金融科技教育与研究50人论坛发起...   \n",
      "3  科学研究是否充满生命力，就看研究者是否有问题意识，是否能股发现并提出大量的问题。什么样的问题...   \n",
      "4  主办单位：清华大学五道口金融学院 支持单位：渤海银行官方媒体：清华金融评论 未央网地 点：清...   \n",
      "\n",
      "                                                 url  \n",
      "0  https://kyybgxx.cic.tsinghua.edu.cn/kybg/xsgg/...  \n",
      "1  https://kyybgxx.cic.tsinghua.edu.cn/kybg/xsgg/...  \n",
      "2  https://kyybgxx.cic.tsinghua.edu.cn/kybg/xsgg/...  \n",
      "3  https://kyybgxx.cic.tsinghua.edu.cn/kybg/xsgg/...  \n",
      "4  https://kyybgxx.cic.tsinghua.edu.cn/kybg/xsgg/...  \n",
      "1\n",
      "https://kyybgxx.cic.tsinghua.edu.cn/kybg/xsgg/detail.jsp?seq=19477&boardid=35&pageno=2\n",
      "                                               title  \\\n",
      "0  国有企业党的建设工作研讨会----暨习近平总书记在全国国有企业党的建设工作会议发表重要讲话4...   \n",
      "1                      讲座预告 | 中美风暴下的风险与对策-金融EMBA师友沙龙   \n",
      "2                                     2019中国金融科技学术年会   \n",
      "3                                    名师微沙龙：文科PI系列第一场   \n",
      "4                                        清华五道口金融家大讲堂   \n",
      "5  第6场【清华大学“闻道”国际论坛】欧洲复兴开发银行2018-2019年度转型报告，EBRD ...   \n",
      "\n",
      "                           reporter              time  \\\n",
      "0                          李耀强、刘新刚等  2020-10-11 08:30   \n",
      "1                            鞠建东教授等  2020-09-12 20:00   \n",
      "2                              None  2019-12-21 08:30   \n",
      "3                                仇军  2019-12-11 16:30   \n",
      "4                 Sheila M'Mbijjewe  2019-12-10 16:00   \n",
      "5  （1）亚历山大·普列汉诺夫Alexandre Plekhanov  2019-03-05 19:00   \n",
      "\n",
      "                                               place           holder  \\\n",
      "0                                      清华大学廖凯原楼（法学院）  清华大学中国现代国有企业研究院   \n",
      "1                                                 线上    清华五道口金融EMBA中心   \n",
      "2                                             北京香山饭店             None   \n",
      "3                                     李文正图书馆负一层邺架轩书店            文科建设处   \n",
      "4                                   清华大学五道口金融学院1-200     清华大学五道口金融学院    \n",
      "5  清华大学苏世民书院，B104教室，地下一层, B104, Schwarzman Colleg...        清华大学苏世民书院   \n",
      "\n",
      "                                            abstract  \\\n",
      "0  经管学院第202001号国有企业党的建设工作研讨会----暨习近平总书记在全国国有企业党的建...   \n",
      "1  2020年以来，美国总统大选临近，叠合新冠疫情、经济衰退和种族骚乱等影响，美国逐步升级了对中...   \n",
      "2  为促进金融科技研究，推动中国金融科技的健康稳定和可持续发展，金融科技教育与研究50人论坛发起...   \n",
      "3  科学研究是否充满生命力，就看研究者是否有问题意识，是否能股发现并提出大量的问题。什么样的问题...   \n",
      "4  主办单位：清华大学五道口金融学院 支持单位：渤海银行官方媒体：清华金融评论 未央网地 点：清...   \n",
      "5  报告人：（1）亚历山大•普列汉诺夫，欧开行高级经济学家（主讲）该年度报告的主题是“Work ...   \n",
      "\n",
      "                                                 url  \n",
      "0  https://kyybgxx.cic.tsinghua.edu.cn/kybg/xsgg/...  \n",
      "1  https://kyybgxx.cic.tsinghua.edu.cn/kybg/xsgg/...  \n",
      "2  https://kyybgxx.cic.tsinghua.edu.cn/kybg/xsgg/...  \n",
      "3  https://kyybgxx.cic.tsinghua.edu.cn/kybg/xsgg/...  \n",
      "4  https://kyybgxx.cic.tsinghua.edu.cn/kybg/xsgg/...  \n",
      "5  https://kyybgxx.cic.tsinghua.edu.cn/kybg/xsgg/...  \n",
      "2\n"
     ]
    }
   ],
   "source": [
    "result = lectureinfo.get_lectures_data(tag_count=2,page_count=2)"
   ]
  },
  {
   "cell_type": "code",
   "execution_count": 25,
   "metadata": {},
   "outputs": [
    {
     "output_type": "execute_result",
     "data": {
      "text/plain": [
       "{'人文与社会科学':                                                title       reporter  \\\n",
       " 0                                       为学四问之一：“为何学”            谢维和   \n",
       " 1  国有企业党的建设工作研讨会----暨习近平总书记在全国国有企业党的建设工作会议发表重要讲话4...       李耀强、刘新刚等   \n",
       " 2                                 论坛预告｜计算器具：过去、现在与未来  第二届清华科学博物馆学论坛   \n",
       " 3                                后五四时期中国精神人文主义的建构性探索             李萍   \n",
       " 4                      讲座预告 | 中美风暴下的风险与对策-金融EMBA师友沙龙         鞠建东教授等   \n",
       " 5                           执简驭繁，匠心天工——论晚商时期的青铜铸造与生产            刘煜    \n",
       " \n",
       "                time          place                 holder  \\\n",
       " 0  2020-10-22 14:00             待定                  教育研究院   \n",
       " 1  2020-10-11 08:30  清华大学廖凯原楼（法学院）        清华大学中国现代国有企业研究院   \n",
       " 2  2020-09-24 11:00     蒙民伟人文楼B206  清华大学科学博物馆（筹）、清华大学科学史系   \n",
       " 3  2020-09-18 15:30     清华大学四教4206                马克思主义学院   \n",
       " 4  2020-09-12 20:00             线上          清华五道口金融EMBA中心   \n",
       " 5  2019-11-15 15:00        人文楼B206               人文学院科学史系   \n",
       " \n",
       "                                             abstract  \\\n",
       " 0  讲座主题：为学四问之一 | “为何学”主讲人：谢维和教授 清华大学校务委员会副主任、文科资深...   \n",
       " 1  经管学院第202001号国有企业党的建设工作研讨会----暨习近平总书记在全国国有企业党的建...   \n",
       " 2  清华科学博物馆学论坛是以科学博物馆学和科学仪器史研究为主题的学术活动，由清华大学科学博物馆（...   \n",
       " 3  德育名家大讲堂 第6期后五四时期中国精神人文主义的建构性探索主讲人：吴潜涛 教授 时间：9月...   \n",
       " 4  2020年以来，美国总统大选临近，叠合新冠疫情、经济衰退和种族骚乱等影响，美国逐步升级了对中...   \n",
       " 5  中国曾经历一个辉煌的“青铜时代”，青铜器在其间的重要性是任何一个其他古代文明都无可比拟的。它...   \n",
       " \n",
       "                                                  url  \n",
       " 0  https://kyybgxx.cic.tsinghua.edu.cn/kybg/xsgg/...  \n",
       " 1  https://kyybgxx.cic.tsinghua.edu.cn/kybg/xsgg/...  \n",
       " 2  https://kyybgxx.cic.tsinghua.edu.cn/kybg/xsgg/...  \n",
       " 3  https://kyybgxx.cic.tsinghua.edu.cn/kybg/xsgg/...  \n",
       " 4  https://kyybgxx.cic.tsinghua.edu.cn/kybg/xsgg/...  \n",
       " 5  https://kyybgxx.cic.tsinghua.edu.cn/kybg/xsgg/...  ,\n",
       " '经济学':                                                title  \\\n",
       " 0  国有企业党的建设工作研讨会----暨习近平总书记在全国国有企业党的建设工作会议发表重要讲话4...   \n",
       " 1                      讲座预告 | 中美风暴下的风险与对策-金融EMBA师友沙龙   \n",
       " 2                                     2019中国金融科技学术年会   \n",
       " 3                                    名师微沙龙：文科PI系列第一场   \n",
       " 4                                        清华五道口金融家大讲堂   \n",
       " 5  第6场【清华大学“闻道”国际论坛】欧洲复兴开发银行2018-2019年度转型报告，EBRD ...   \n",
       " \n",
       "                            reporter              time  \\\n",
       " 0                          李耀强、刘新刚等  2020-10-11 08:30   \n",
       " 1                            鞠建东教授等  2020-09-12 20:00   \n",
       " 2                              None  2019-12-21 08:30   \n",
       " 3                                仇军  2019-12-11 16:30   \n",
       " 4                 Sheila M'Mbijjewe  2019-12-10 16:00   \n",
       " 5  （1）亚历山大·普列汉诺夫Alexandre Plekhanov  2019-03-05 19:00   \n",
       " \n",
       "                                                place           holder  \\\n",
       " 0                                      清华大学廖凯原楼（法学院）  清华大学中国现代国有企业研究院   \n",
       " 1                                                 线上    清华五道口金融EMBA中心   \n",
       " 2                                             北京香山饭店             None   \n",
       " 3                                     李文正图书馆负一层邺架轩书店            文科建设处   \n",
       " 4                                   清华大学五道口金融学院1-200     清华大学五道口金融学院    \n",
       " 5  清华大学苏世民书院，B104教室，地下一层, B104, Schwarzman Colleg...        清华大学苏世民书院   \n",
       " \n",
       "                                             abstract  \\\n",
       " 0  经管学院第202001号国有企业党的建设工作研讨会----暨习近平总书记在全国国有企业党的建...   \n",
       " 1  2020年以来，美国总统大选临近，叠合新冠疫情、经济衰退和种族骚乱等影响，美国逐步升级了对中...   \n",
       " 2  为促进金融科技研究，推动中国金融科技的健康稳定和可持续发展，金融科技教育与研究50人论坛发起...   \n",
       " 3  科学研究是否充满生命力，就看研究者是否有问题意识，是否能股发现并提出大量的问题。什么样的问题...   \n",
       " 4  主办单位：清华大学五道口金融学院 支持单位：渤海银行官方媒体：清华金融评论 未央网地 点：清...   \n",
       " 5  报告人：（1）亚历山大•普列汉诺夫，欧开行高级经济学家（主讲）该年度报告的主题是“Work ...   \n",
       " \n",
       "                                                  url  \n",
       " 0  https://kyybgxx.cic.tsinghua.edu.cn/kybg/xsgg/...  \n",
       " 1  https://kyybgxx.cic.tsinghua.edu.cn/kybg/xsgg/...  \n",
       " 2  https://kyybgxx.cic.tsinghua.edu.cn/kybg/xsgg/...  \n",
       " 3  https://kyybgxx.cic.tsinghua.edu.cn/kybg/xsgg/...  \n",
       " 4  https://kyybgxx.cic.tsinghua.edu.cn/kybg/xsgg/...  \n",
       " 5  https://kyybgxx.cic.tsinghua.edu.cn/kybg/xsgg/...  }"
      ]
     },
     "metadata": {},
     "execution_count": 25
    }
   ],
   "source": [
    "result"
   ]
  },
  {
   "cell_type": "code",
   "execution_count": 26,
   "metadata": {},
   "outputs": [],
   "source": [
    "for key in result:\n",
    "    result[key].to_csv(\"{}.csv\".format(key), index=False)"
   ]
  },
  {
   "cell_type": "code",
   "execution_count": 27,
   "metadata": {},
   "outputs": [
    {
     "output_type": "execute_result",
     "data": {
      "text/plain": [
       "                                               title  \\\n",
       "0  国有企业党的建设工作研讨会----暨习近平总书记在全国国有企业党的建设工作会议发表重要讲话4...   \n",
       "1                      讲座预告 | 中美风暴下的风险与对策-金融EMBA师友沙龙   \n",
       "2                                     2019中国金融科技学术年会   \n",
       "3                                    名师微沙龙：文科PI系列第一场   \n",
       "4                                        清华五道口金融家大讲堂   \n",
       "5  第6场【清华大学“闻道”国际论坛】欧洲复兴开发银行2018-2019年度转型报告，EBRD ...   \n",
       "\n",
       "                           reporter              time  \\\n",
       "0                          李耀强、刘新刚等  2020-10-11 08:30   \n",
       "1                            鞠建东教授等  2020-09-12 20:00   \n",
       "2                              None  2019-12-21 08:30   \n",
       "3                                仇军  2019-12-11 16:30   \n",
       "4                 Sheila M'Mbijjewe  2019-12-10 16:00   \n",
       "5  （1）亚历山大·普列汉诺夫Alexandre Plekhanov  2019-03-05 19:00   \n",
       "\n",
       "                                               place           holder  \\\n",
       "0                                      清华大学廖凯原楼（法学院）  清华大学中国现代国有企业研究院   \n",
       "1                                                 线上    清华五道口金融EMBA中心   \n",
       "2                                             北京香山饭店             None   \n",
       "3                                     李文正图书馆负一层邺架轩书店            文科建设处   \n",
       "4                                   清华大学五道口金融学院1-200     清华大学五道口金融学院    \n",
       "5  清华大学苏世民书院，B104教室，地下一层, B104, Schwarzman Colleg...        清华大学苏世民书院   \n",
       "\n",
       "                                            abstract  \\\n",
       "0  经管学院第202001号国有企业党的建设工作研讨会----暨习近平总书记在全国国有企业党的建...   \n",
       "1  2020年以来，美国总统大选临近，叠合新冠疫情、经济衰退和种族骚乱等影响，美国逐步升级了对中...   \n",
       "2  为促进金融科技研究，推动中国金融科技的健康稳定和可持续发展，金融科技教育与研究50人论坛发起...   \n",
       "3  科学研究是否充满生命力，就看研究者是否有问题意识，是否能股发现并提出大量的问题。什么样的问题...   \n",
       "4  主办单位：清华大学五道口金融学院 支持单位：渤海银行官方媒体：清华金融评论 未央网地 点：清...   \n",
       "5  报告人：（1）亚历山大•普列汉诺夫，欧开行高级经济学家（主讲）该年度报告的主题是“Work ...   \n",
       "\n",
       "                                                 url  \n",
       "0  https://kyybgxx.cic.tsinghua.edu.cn/kybg/xsgg/...  \n",
       "1  https://kyybgxx.cic.tsinghua.edu.cn/kybg/xsgg/...  \n",
       "2  https://kyybgxx.cic.tsinghua.edu.cn/kybg/xsgg/...  \n",
       "3  https://kyybgxx.cic.tsinghua.edu.cn/kybg/xsgg/...  \n",
       "4  https://kyybgxx.cic.tsinghua.edu.cn/kybg/xsgg/...  \n",
       "5  https://kyybgxx.cic.tsinghua.edu.cn/kybg/xsgg/...  "
      ],
      "text/html": "<div>\n<style scoped>\n    .dataframe tbody tr th:only-of-type {\n        vertical-align: middle;\n    }\n\n    .dataframe tbody tr th {\n        vertical-align: top;\n    }\n\n    .dataframe thead th {\n        text-align: right;\n    }\n</style>\n<table border=\"1\" class=\"dataframe\">\n  <thead>\n    <tr style=\"text-align: right;\">\n      <th></th>\n      <th>title</th>\n      <th>reporter</th>\n      <th>time</th>\n      <th>place</th>\n      <th>holder</th>\n      <th>abstract</th>\n      <th>url</th>\n    </tr>\n  </thead>\n  <tbody>\n    <tr>\n      <th>0</th>\n      <td>国有企业党的建设工作研讨会----暨习近平总书记在全国国有企业党的建设工作会议发表重要讲话4...</td>\n      <td>李耀强、刘新刚等</td>\n      <td>2020-10-11 08:30</td>\n      <td>清华大学廖凯原楼（法学院）</td>\n      <td>清华大学中国现代国有企业研究院</td>\n      <td>经管学院第202001号国有企业党的建设工作研讨会----暨习近平总书记在全国国有企业党的建...</td>\n      <td>https://kyybgxx.cic.tsinghua.edu.cn/kybg/xsgg/...</td>\n    </tr>\n    <tr>\n      <th>1</th>\n      <td>讲座预告 | 中美风暴下的风险与对策-金融EMBA师友沙龙</td>\n      <td>鞠建东教授等</td>\n      <td>2020-09-12 20:00</td>\n      <td>线上</td>\n      <td>清华五道口金融EMBA中心</td>\n      <td>2020年以来，美国总统大选临近，叠合新冠疫情、经济衰退和种族骚乱等影响，美国逐步升级了对中...</td>\n      <td>https://kyybgxx.cic.tsinghua.edu.cn/kybg/xsgg/...</td>\n    </tr>\n    <tr>\n      <th>2</th>\n      <td>2019中国金融科技学术年会</td>\n      <td>None</td>\n      <td>2019-12-21 08:30</td>\n      <td>北京香山饭店</td>\n      <td>None</td>\n      <td>为促进金融科技研究，推动中国金融科技的健康稳定和可持续发展，金融科技教育与研究50人论坛发起...</td>\n      <td>https://kyybgxx.cic.tsinghua.edu.cn/kybg/xsgg/...</td>\n    </tr>\n    <tr>\n      <th>3</th>\n      <td>名师微沙龙：文科PI系列第一场</td>\n      <td>仇军</td>\n      <td>2019-12-11 16:30</td>\n      <td>李文正图书馆负一层邺架轩书店</td>\n      <td>文科建设处</td>\n      <td>科学研究是否充满生命力，就看研究者是否有问题意识，是否能股发现并提出大量的问题。什么样的问题...</td>\n      <td>https://kyybgxx.cic.tsinghua.edu.cn/kybg/xsgg/...</td>\n    </tr>\n    <tr>\n      <th>4</th>\n      <td>清华五道口金融家大讲堂</td>\n      <td>Sheila M'Mbijjewe</td>\n      <td>2019-12-10 16:00</td>\n      <td>清华大学五道口金融学院1-200</td>\n      <td>清华大学五道口金融学院</td>\n      <td>主办单位：清华大学五道口金融学院 支持单位：渤海银行官方媒体：清华金融评论 未央网地 点：清...</td>\n      <td>https://kyybgxx.cic.tsinghua.edu.cn/kybg/xsgg/...</td>\n    </tr>\n    <tr>\n      <th>5</th>\n      <td>第6场【清华大学“闻道”国际论坛】欧洲复兴开发银行2018-2019年度转型报告，EBRD ...</td>\n      <td>（1）亚历山大·普列汉诺夫Alexandre Plekhanov</td>\n      <td>2019-03-05 19:00</td>\n      <td>清华大学苏世民书院，B104教室，地下一层, B104, Schwarzman Colleg...</td>\n      <td>清华大学苏世民书院</td>\n      <td>报告人：（1）亚历山大•普列汉诺夫，欧开行高级经济学家（主讲）该年度报告的主题是“Work ...</td>\n      <td>https://kyybgxx.cic.tsinghua.edu.cn/kybg/xsgg/...</td>\n    </tr>\n  </tbody>\n</table>\n</div>"
     },
     "metadata": {},
     "execution_count": 27
    }
   ],
   "source": [
    "result['经济学']"
   ]
  },
  {
   "cell_type": "code",
   "execution_count": null,
   "metadata": {},
   "outputs": [],
   "source": []
  },
  {
   "cell_type": "code",
   "execution_count": null,
   "metadata": {},
   "outputs": [],
   "source": []
  },
  {
   "cell_type": "code",
   "execution_count": 14,
   "metadata": {},
   "outputs": [],
   "source": [
    "def parse_line(tr):\n",
    "    cols=tr.find_all('td')\n",
    "    cols[1]=cols[1].find('a')\n",
    "    return [col.string for col in cols], cols[1]"
   ]
  },
  {
   "cell_type": "code",
   "execution_count": 28,
   "metadata": {},
   "outputs": [],
   "source": [
    "root = \"https://kyybgxx.cic.tsinghua.edu.cn/kybg/xsgg/\"\n",
    "result = requests.get(root)\n",
    "bs_root = BeautifulSoup(result.text, 'lxml')\n",
    "trs_root=bs_root.find_all(name='td', id=re.compile(\"category[0-9][0-9][0-9][0-9].+\"))"
   ]
  },
  {
   "cell_type": "code",
   "execution_count": 29,
   "metadata": {},
   "outputs": [],
   "source": [
    "cols=['报告题目:', '报告人:', '报告时间:', '报告地点:', '主办单位:']"
   ]
  },
  {
   "cell_type": "code",
   "execution_count": 30,
   "metadata": {},
   "outputs": [],
   "source": [
    "tag_root = trs_root[0]"
   ]
  },
  {
   "cell_type": "code",
   "execution_count": 31,
   "metadata": {},
   "outputs": [
    {
     "output_type": "execute_result",
     "data": {
      "text/plain": [
       "bs4.element.Tag"
      ]
     },
     "metadata": {},
     "execution_count": 31
    }
   ],
   "source": [
    "type(tag_root)"
   ]
  },
  {
   "cell_type": "code",
   "execution_count": 44,
   "metadata": {},
   "outputs": [
    {
     "output_type": "execute_result",
     "data": {
      "text/plain": [
       "'人文与社会科学'"
      ]
     },
     "metadata": {},
     "execution_count": 44
    }
   ],
   "source": [
    "lec_node=tag_root.find('a')\n",
    "lec_node.text"
   ]
  },
  {
   "cell_type": "code",
   "execution_count": 45,
   "metadata": {},
   "outputs": [],
   "source": [
    "lec_url=lec_node['href']"
   ]
  },
  {
   "cell_type": "code",
   "execution_count": 46,
   "metadata": {},
   "outputs": [],
   "source": [
    "tag_page=requests.get(root+lec_url)"
   ]
  },
  {
   "cell_type": "code",
   "execution_count": 47,
   "metadata": {},
   "outputs": [],
   "source": [
    "bs_tag=BeautifulSoup(tag_page.text, 'lxml')\n",
    "trs_lec=bs_tag.find_all('tr')"
   ]
  },
  {
   "cell_type": "code",
   "execution_count": 48,
   "metadata": {},
   "outputs": [
    {
     "output_type": "execute_result",
     "data": {
      "text/plain": [
       "<tr bgcolor=\"#FFFFFF\">\n",
       "<td align=\"center\">2020-09-24 11:00 </td>\n",
       "<td><a href=\"detail.jsp?seq=20596&amp;boardid=35&amp;pageno=\" target=\"_blank\">论坛预告｜计算器具：过去、现在与未来</a> </td>\n",
       "<td>第二届清华科学博... </td>\n",
       "<td>蒙民伟人文楼B206 </td>\n",
       "</tr>"
      ]
     },
     "metadata": {},
     "execution_count": 48
    }
   ],
   "source": [
    "trs_lec[10]\n"
   ]
  },
  {
   "cell_type": "code",
   "execution_count": 50,
   "metadata": {},
   "outputs": [],
   "source": [
    "detail_url=trs_lec[10].find_all('td')[1].find('a')['href']"
   ]
  },
  {
   "cell_type": "code",
   "execution_count": 52,
   "metadata": {},
   "outputs": [],
   "source": [
    "detail_page=requests.get(root+detail_url)\n",
    "bs_detail=BeautifulSoup(detail_page.text, 'lxml')"
   ]
  },
  {
   "cell_type": "code",
   "execution_count": 53,
   "metadata": {},
   "outputs": [],
   "source": [
    "trs_detail=bs_detail.find_all('tr')"
   ]
  },
  {
   "cell_type": "code",
   "execution_count": 65,
   "metadata": {},
   "outputs": [
    {
     "output_type": "execute_result",
     "data": {
      "text/plain": [
       "<tr><td align=\"right\" width=\"41%\"><span class=\"STYLE5\"><font color=\"#4E73A2\">to</font></span>  </td>\n",
       "<td valign=\"startTime\" width=\"59%\">\n",
       "<input class=\"in\" id=\"endTime\" name=\"endTime\" size=\"12\" type=\"text\"/> <img align=\"absbottom\" onclick=\"cal18.select(document.forms[0].endTime,'endTime','yyyy-MM-dd'); return false;\" src=\"/images/calendar.png\"/>\n",
       "</td>\n",
       "</tr>"
      ]
     },
     "metadata": {},
     "execution_count": 65
    }
   ],
   "source": [
    "trs_detail[12]"
   ]
  },
  {
   "cell_type": "code",
   "execution_count": 73,
   "metadata": {},
   "outputs": [],
   "source": [
    "res=[]\n",
    "for tr in trs_detail:\n",
    "    tds=tr.find_all('td')\n",
    "    if len(tds)>0:\n",
    "        node1=tds[0].find('div')\n",
    "        if node1 is not None and node1.string is not None:\n",
    "            res.append(tds)"
   ]
  },
  {
   "cell_type": "code",
   "execution_count": 91,
   "metadata": {},
   "outputs": [
    {
     "output_type": "execute_result",
     "data": {
      "text/plain": [
       "'清华科学博物馆学论坛是以科学博物馆学和科学仪器史研究为主题的学术活动，由清华大学科学博物馆（筹）和清华大学科学史系主办。论坛以理论探讨为主，与展览实践密切结合，体现高校博物馆特色，促进高校人才培养与大众科学传播。论坛主题：“计算器具：过去、现在与未来”论坛时间：2020年9月24日11:00-17:30论坛地点：清华大学蒙民伟人文楼B206腾讯会议:577193312会议日程第1场11:00–12:00主持人：蒋澈（清华大学科学史系）11:00–11:30报告题目：《从算筹到算盘:中国传统算具与算法体系的特色》报告人：冯立昇（清华大学科技史暨古文献研究所）11:30–12:00报告题目：《“紧急措施”的由来与计算机事业的成效》报告人：徐祖哲（计算机发展史研究专家）第2场13:30–15:00主持人：王哲然（清华大学科学史系）13:30–14:00报告题目：《子木园里的“神机妙算”》报告人：谭丽娅（合肥子木园博物馆）14:00–14:30报告题目：《天河系列超级计算机应用创新发展》报告人：菅晓东（国家超级计算机天津中心）14:30–15:00报告题目：《追寻中国计算机创业者足迹》报告人：胡春明（中国计算机学会）第3场15:15–16:45主持人：胡翌霖（清华大学科学史系）15:15–15:45报告题目：《图灵之火》报告人：张小平（清华大学计算机系）15:45–16:15报告题目：《IT传奇——微软经典照片背后的计算机往事》报告人：司宏伟（清华大学科学史系）16:15–16:45报告题目：《浅谈机械计算机的复原研究》报告人：王哲然（清华大学科学史系）圆桌会议+闭幕式16:45–17:30主持人：吴国盛（清华大学科学史系）2020-09-22'"
      ]
     },
     "metadata": {},
     "execution_count": 91
    }
   ],
   "source": [
    "''.join(res[-1][1].text.split())"
   ]
  },
  {
   "cell_type": "code",
   "execution_count": 92,
   "metadata": {},
   "outputs": [
    {
     "output_type": "execute_result",
     "data": {
      "text/plain": [
       "[<td height=\"20\" valign=\"baseline\"><div align=\"center\" class=\"style3\">　　简介:</div></td>,\n",
       " <td height=\"20\"><p style=\"line-height: 1.5em; margin-bottom: 10px; margin-top: 10px; text-align: justify; text-indent: 2em;\"><img alt=\"“神机妙算——计算器具历史展”开幕式+论坛 海报_副本.jpg\" src=\"/ueditor/jsp/upload/image/20200922/1600739130083023183.jpg\" title=\"1600739130083023183.jpg\"/></p><p style=\"margin-bottom: 10px; margin-top: 10px; text-align: justify; text-indent: 2em; line-height: 1.75em;\"><span style=\"font-size: 20px; font-family: 宋体, SimSun;\"><br/></span></p><p style=\"margin-bottom: 10px; margin-top: 10px; text-align: justify; text-indent: 2em; line-height: 2em;\"><span style=\"font-size: 20px; font-family: 宋体, SimSun;\">清华科学博物馆学论坛是以科学博物馆学和科学仪器史研究为主题的学术活动，由清华大学科学博物馆（筹）和清华大学科学史系主办。论坛以理论探讨为主，与展览实践密切结合，体现高校博物馆特色，促进高校人才培养与大众科学传播。</span></p><p style=\"margin-bottom: 10px; margin-top: 10px; text-align: justify; text-indent: 2em; line-height: 1.75em;\"><span style=\"font-family: 宋体, SimSun; font-size: 20px; text-indent: 2em;\">论坛主题：“计算器具：过去、现在与未来”</span></p><p style=\"text-indent: 2em; text-align: left; line-height: 1.75em;\"><span style=\"font-family: 宋体, SimSun; font-size: 20px;\">论坛时间：2020年9月24日11:00-17:30</span></p><p style=\"text-indent: 2em; text-align: left; line-height: 1.75em;\"><span style=\"font-family: 宋体, SimSun; font-size: 20px;\">论坛地点：清华大学蒙民伟人文楼B206</span></p><p style=\"text-indent: 2em; text-align: left; line-height: 1.75em;\"><span style=\"font-family: 宋体, SimSun; font-size: 20px;\">腾讯会议: 577 193 312</span></p><p style=\"text-indent: 2em; text-align: left; line-height: 1.75em;\"><span style=\"font-family: 宋体, SimSun; font-size: 20px;\"><br/></span></p><p style=\"text-indent: 2em; text-align: center; line-height: 1.75em;\"><span style=\"font-family: 宋体, SimSun; font-size: 20px;\">会议日程</span></p><p style=\"text-indent: 2em; text-align: left; line-height: 1.75em;\"><span style=\"font-family: 宋体, SimSun; font-size: 20px;\"><br/></span></p><p style=\"text-indent: 2em; text-align: left; line-height: 1.75em;\"><br/></p><p style=\"text-indent: 2em; text-align: left; line-height: 1.5em; margin-bottom: 10px;\"><span style=\"font-family: 宋体, SimSun; font-size: 18px;\">第1场 11:00–12:00 </span><span style=\"font-family: 宋体, SimSun; font-size: 18px; text-indent: 2em;\">主持人：蒋澈（清华大学科学史系）</span></p><p style=\"text-indent: 2em; text-align: left; line-height: 1.5em; margin-bottom: 10px;\"><span style=\"font-family: 宋体, SimSun; font-size: 18px;\">  11:00–11:30</span></p><p style=\"text-indent: 2em; text-align: left; line-height: 1.5em; margin-bottom: 10px;\"><span style=\"font-family: 宋体, SimSun; font-size: 18px;\">    报告题目：《从算筹到算盘: 中国传统算具与算法体系的特色》</span></p><p style=\"text-indent: 2em; text-align: left; line-height: 1.5em; margin-bottom: 10px;\"><span style=\"font-family: 宋体, SimSun; font-size: 18px;\">    报 告 人：冯立昇（清华大学科技史暨古文献研究所）</span></p><p style=\"text-indent: 2em; text-align: left; line-height: 1.5em; margin-bottom: 10px;\"><span style=\"font-family: 宋体, SimSun; font-size: 18px;\">  11:30–12:00</span></p><p style=\"text-indent: 2em; text-align: left; line-height: 1.5em; margin-bottom: 10px;\"><span style=\"font-family: 宋体, SimSun; font-size: 18px;\">    报告题目：《“紧急措施”的由来与计算机事业的成效》</span></p><p style=\"text-indent: 2em; text-align: left; line-height: 1.5em; margin-bottom: 10px;\"><span style=\"font-family: 宋体, SimSun; font-size: 18px;\">    报 告 人：徐祖哲（计算机发展史研究专家）</span></p><p style=\"text-indent: 2em; text-align: left;\"><br/></p><p style=\"text-indent: 2em; text-align: left; line-height: 1.5em; margin-bottom: 10px;\"><span style=\"font-family: 宋体, SimSun; font-size: 18px;\">第2场 13:30–15:00 </span><span style=\"font-family: 宋体, SimSun; font-size: 18px; text-indent: 2em;\">主持人：王哲然（清华大学科学史系）</span></p><p style=\"text-indent: 2em; text-align: left; line-height: 1.5em; margin-bottom: 10px;\"><span style=\"font-family: 宋体, SimSun; font-size: 18px;\">  13:30–14:00</span></p><p style=\"text-indent: 2em; text-align: left; line-height: 1.5em; margin-bottom: 10px;\"><span style=\"font-family: 宋体, SimSun; font-size: 18px;\">    报告题目：《子木园里的“神机妙算”》</span></p><p style=\"text-indent: 2em; text-align: left; line-height: 1.5em; margin-bottom: 10px;\"><span style=\"font-family: 宋体, SimSun; font-size: 18px;\">    报 告 人：谭丽娅（合肥子木园博物馆）</span></p><p style=\"text-indent: 2em; text-align: left; line-height: 1.5em; margin-bottom: 10px;\"><span style=\"font-family: 宋体, SimSun; font-size: 18px;\">  14:00–14:30</span></p><p style=\"text-indent: 2em; text-align: left; line-height: 1.5em; margin-bottom: 10px;\"><span style=\"font-family: 宋体, SimSun; font-size: 18px;\">    报告题目：《天河系列超级计算机应用创新发展》</span></p><p style=\"text-indent: 2em; text-align: left; line-height: 1.5em; margin-bottom: 10px;\"><span style=\"font-family: 宋体, SimSun; font-size: 18px;\">    报 告 人：菅晓东（国家超级计算机天津中心）</span></p><p style=\"text-indent: 2em; text-align: left; line-height: 1.5em; margin-bottom: 10px;\"><span style=\"font-family: 宋体, SimSun; font-size: 18px;\">  14:30–15:00</span></p><p style=\"text-indent: 2em; text-align: left; line-height: 1.5em; margin-bottom: 10px;\"><span style=\"font-family: 宋体, SimSun; font-size: 18px;\">    报告题目：《追寻中国计算机创业者足迹》</span></p><p style=\"text-indent: 2em; text-align: left; line-height: 1.5em; margin-bottom: 10px;\"><span style=\"font-family: 宋体, SimSun; font-size: 18px;\">    报 告 人：胡春明（中国计算机学会）</span></p><p><br/></p><p style=\"text-indent: 2em; text-align: left; line-height: 1.5em; margin-bottom: 10px;\"><span style=\"font-family: 宋体, SimSun; font-size: 18px;\">第3场 15:15–16:45 </span><span style=\"font-family: 宋体, SimSun; font-size: 18px; text-indent: 2em;\">主持人：胡翌霖（清华大学科学史系）</span></p><p style=\"text-indent: 2em; text-align: left; line-height: 1.5em; margin-bottom: 10px;\"><span style=\"font-family: 宋体, SimSun; font-size: 18px;\">  15:15–15:45</span></p><p style=\"text-indent: 2em; text-align: left; line-height: 1.5em; margin-bottom: 10px;\"><span style=\"font-family: 宋体, SimSun; font-size: 18px;\">    报告题目：《图灵之火》</span></p><p style=\"text-indent: 2em; text-align: left; line-height: 1.5em; margin-bottom: 10px;\"><span style=\"font-family: 宋体, SimSun; font-size: 18px;\">    报 告 人：张小平（清华大学计算机系）</span></p><p style=\"text-indent: 2em; text-align: left; line-height: 1.5em; margin-bottom: 10px;\"><span style=\"font-family: 宋体, SimSun; font-size: 18px;\">  15:45–16:15</span></p><p style=\"text-indent: 2em; text-align: left; line-height: 1.5em; margin-bottom: 10px;\"><span style=\"font-family: 宋体, SimSun; font-size: 18px;\">    报告题目：《IT传奇<span style=\"font-size: 18px; line-height: 107%; font-family: 宋体; color: rgb(51, 51, 51);\">——微软经典照片背后的计算机往事</span>》</span></p><p style=\"text-indent: 2em; text-align: left; line-height: 1.5em; margin-bottom: 10px;\"><span style=\"font-family: 宋体, SimSun; font-size: 18px;\">    报 告 人：司宏伟（清华大学科学史系）</span></p><p style=\"text-indent: 2em; text-align: left; line-height: 1.5em; margin-bottom: 10px;\"><span style=\"font-family: 宋体, SimSun; font-size: 18px;\">  16:15–16:45</span></p><p style=\"text-indent: 2em; text-align: left; line-height: 1.5em; margin-bottom: 10px;\"><span style=\"font-family: 宋体, SimSun; font-size: 18px;\">    报告题目：《浅谈机械计算机的复原研究》</span></p><p style=\"text-indent: 2em; text-align: left; line-height: 1.5em; margin-bottom: 10px;\"><span style=\"font-family: 宋体, SimSun; font-size: 18px;\">    报 告 人：王哲然（清华大学科学史系）</span></p><p><br/></p><p style=\"text-indent: 2em; text-align: left; line-height: 1.5em; margin-bottom: 10px;\"><span style=\"font-family: 宋体, SimSun; font-size: 18px;\">圆桌会议+闭幕式 16:45–17:30 </span><span style=\"font-family: 宋体, SimSun; font-size: 18px; text-indent: 2em;\">主持人：吴国盛（清华大学科学史系）</span></p><p style=\"text-indent: 2em; text-align: left; line-height: 1.75em;\"><br/></p><p style=\"margin-bottom: 10px; margin-top: 10px; text-align: right; text-indent: 2em; line-height: 1.75em;\">2020-09-22</p><p style=\"line-height: 1.5em; margin-bottom: 10px; margin-top: 10px; text-align: justify; text-indent: 2em;\"><br/></p><p style=\"display: none;\"><br/></p></td>]"
      ]
     },
     "metadata": {},
     "execution_count": 92
    }
   ],
   "source": [
    "res[-1]"
   ]
  },
  {
   "cell_type": "code",
   "execution_count": null,
   "metadata": {},
   "outputs": [],
   "source": []
  },
  {
   "cell_type": "code",
   "execution_count": null,
   "metadata": {},
   "outputs": [],
   "source": [
    "\n",
    "        trs_detail=bs_detail.find_all('tr')\n",
    "        tr_detail_dict={}\n",
    "        for tr in trs_detail:\n",
    "            tds=tr.find_all('td')\n",
    "            if len(tds)>0:\n",
    "                node1=tds[0].find('div')\n",
    "                if node1 is not None and node1.string is not None:\n",
    "                    s=node1.string.strip()\n",
    "                    if s in cols:\n",
    "                        tr_detail_dict[s]=tds[1].string\n",
    "                    tr_detail_dict['链接']=detail_link\n",
    "        tag_data_list.append(tr_detail_dict)\n",
    "#                 #columns: '报告时间','标题','报告人','地点','链接'\n",
    "#                 cols=tr.find_all('td')\n",
    "#                 cols[1]=cols[1].find('a')\n",
    "#                 data_dict[lec_tag].append([col.string for col in cols] + [root+nextpage_url])\n",
    "nextpage_node=bs_tag.find('a', string=re.compile('.*下.*页.*'))\n",
    "if nextpage_node is None:\n",
    "    break\n",
    "nextpage_url=nextpage_node['href']\n",
    "tag_page=requests.get(root+nextpage_url)\n",
    "count+=1"
   ]
  },
  {
   "cell_type": "code",
   "execution_count": 41,
   "metadata": {},
   "outputs": [
    {
     "output_type": "error",
     "ename": "KeyboardInterrupt",
     "evalue": "",
     "traceback": [
      "\u001b[1;31m---------------------------------------------------------------------------\u001b[0m",
      "\u001b[1;31mKeyboardInterrupt\u001b[0m                         Traceback (most recent call last)",
      "\u001b[1;32m<ipython-input-41-717d7dc3aaad>\u001b[0m in \u001b[0;36m<module>\u001b[1;34m\u001b[0m\n\u001b[0;32m     20\u001b[0m                 \u001b[0mdetail_url\u001b[0m\u001b[1;33m=\u001b[0m\u001b[0mtr\u001b[0m\u001b[1;33m.\u001b[0m\u001b[0mfind_all\u001b[0m\u001b[1;33m(\u001b[0m\u001b[1;34m'td'\u001b[0m\u001b[1;33m)\u001b[0m\u001b[1;33m[\u001b[0m\u001b[1;36m1\u001b[0m\u001b[1;33m]\u001b[0m\u001b[1;33m.\u001b[0m\u001b[0mfind\u001b[0m\u001b[1;33m(\u001b[0m\u001b[1;34m'a'\u001b[0m\u001b[1;33m)\u001b[0m\u001b[1;33m[\u001b[0m\u001b[1;34m'href'\u001b[0m\u001b[1;33m]\u001b[0m\u001b[1;33m\u001b[0m\u001b[1;33m\u001b[0m\u001b[0m\n\u001b[0;32m     21\u001b[0m                 \u001b[0mdetail_link\u001b[0m\u001b[1;33m=\u001b[0m\u001b[0mroot\u001b[0m\u001b[1;33m+\u001b[0m\u001b[0mdetail_url\u001b[0m\u001b[1;33m\u001b[0m\u001b[1;33m\u001b[0m\u001b[0m\n\u001b[1;32m---> 22\u001b[1;33m                 \u001b[0mdetail_page\u001b[0m\u001b[1;33m=\u001b[0m\u001b[0mrequests\u001b[0m\u001b[1;33m.\u001b[0m\u001b[0mget\u001b[0m\u001b[1;33m(\u001b[0m\u001b[0mdetail_link\u001b[0m\u001b[1;33m)\u001b[0m\u001b[1;33m\u001b[0m\u001b[1;33m\u001b[0m\u001b[0m\n\u001b[0m\u001b[0;32m     23\u001b[0m                 \u001b[0mbs_detail\u001b[0m\u001b[1;33m=\u001b[0m\u001b[0mBeautifulSoup\u001b[0m\u001b[1;33m(\u001b[0m\u001b[0mdetail_page\u001b[0m\u001b[1;33m.\u001b[0m\u001b[0mtext\u001b[0m\u001b[1;33m,\u001b[0m \u001b[1;34m'lxml'\u001b[0m\u001b[1;33m)\u001b[0m\u001b[1;33m\u001b[0m\u001b[1;33m\u001b[0m\u001b[0m\n\u001b[0;32m     24\u001b[0m                 \u001b[0mtrs_detail\u001b[0m\u001b[1;33m=\u001b[0m\u001b[0mbs_detail\u001b[0m\u001b[1;33m.\u001b[0m\u001b[0mfind_all\u001b[0m\u001b[1;33m(\u001b[0m\u001b[1;34m'tr'\u001b[0m\u001b[1;33m)\u001b[0m\u001b[1;33m\u001b[0m\u001b[1;33m\u001b[0m\u001b[0m\n",
      "\u001b[1;32m~\\AppData\\Roaming\\Python\\Python38\\site-packages\\requests\\api.py\u001b[0m in \u001b[0;36mget\u001b[1;34m(url, params, **kwargs)\u001b[0m\n\u001b[0;32m     74\u001b[0m \u001b[1;33m\u001b[0m\u001b[0m\n\u001b[0;32m     75\u001b[0m     \u001b[0mkwargs\u001b[0m\u001b[1;33m.\u001b[0m\u001b[0msetdefault\u001b[0m\u001b[1;33m(\u001b[0m\u001b[1;34m'allow_redirects'\u001b[0m\u001b[1;33m,\u001b[0m \u001b[1;32mTrue\u001b[0m\u001b[1;33m)\u001b[0m\u001b[1;33m\u001b[0m\u001b[1;33m\u001b[0m\u001b[0m\n\u001b[1;32m---> 76\u001b[1;33m     \u001b[1;32mreturn\u001b[0m \u001b[0mrequest\u001b[0m\u001b[1;33m(\u001b[0m\u001b[1;34m'get'\u001b[0m\u001b[1;33m,\u001b[0m \u001b[0murl\u001b[0m\u001b[1;33m,\u001b[0m \u001b[0mparams\u001b[0m\u001b[1;33m=\u001b[0m\u001b[0mparams\u001b[0m\u001b[1;33m,\u001b[0m \u001b[1;33m**\u001b[0m\u001b[0mkwargs\u001b[0m\u001b[1;33m)\u001b[0m\u001b[1;33m\u001b[0m\u001b[1;33m\u001b[0m\u001b[0m\n\u001b[0m\u001b[0;32m     77\u001b[0m \u001b[1;33m\u001b[0m\u001b[0m\n\u001b[0;32m     78\u001b[0m \u001b[1;33m\u001b[0m\u001b[0m\n",
      "\u001b[1;32m~\\AppData\\Roaming\\Python\\Python38\\site-packages\\requests\\api.py\u001b[0m in \u001b[0;36mrequest\u001b[1;34m(method, url, **kwargs)\u001b[0m\n\u001b[0;32m     59\u001b[0m     \u001b[1;31m# cases, and look like a memory leak in others.\u001b[0m\u001b[1;33m\u001b[0m\u001b[1;33m\u001b[0m\u001b[1;33m\u001b[0m\u001b[0m\n\u001b[0;32m     60\u001b[0m     \u001b[1;32mwith\u001b[0m \u001b[0msessions\u001b[0m\u001b[1;33m.\u001b[0m\u001b[0mSession\u001b[0m\u001b[1;33m(\u001b[0m\u001b[1;33m)\u001b[0m \u001b[1;32mas\u001b[0m \u001b[0msession\u001b[0m\u001b[1;33m:\u001b[0m\u001b[1;33m\u001b[0m\u001b[1;33m\u001b[0m\u001b[0m\n\u001b[1;32m---> 61\u001b[1;33m         \u001b[1;32mreturn\u001b[0m \u001b[0msession\u001b[0m\u001b[1;33m.\u001b[0m\u001b[0mrequest\u001b[0m\u001b[1;33m(\u001b[0m\u001b[0mmethod\u001b[0m\u001b[1;33m=\u001b[0m\u001b[0mmethod\u001b[0m\u001b[1;33m,\u001b[0m \u001b[0murl\u001b[0m\u001b[1;33m=\u001b[0m\u001b[0murl\u001b[0m\u001b[1;33m,\u001b[0m \u001b[1;33m**\u001b[0m\u001b[0mkwargs\u001b[0m\u001b[1;33m)\u001b[0m\u001b[1;33m\u001b[0m\u001b[1;33m\u001b[0m\u001b[0m\n\u001b[0m\u001b[0;32m     62\u001b[0m \u001b[1;33m\u001b[0m\u001b[0m\n\u001b[0;32m     63\u001b[0m \u001b[1;33m\u001b[0m\u001b[0m\n",
      "\u001b[1;32m~\\AppData\\Roaming\\Python\\Python38\\site-packages\\requests\\sessions.py\u001b[0m in \u001b[0;36mrequest\u001b[1;34m(self, method, url, params, data, headers, cookies, files, auth, timeout, allow_redirects, proxies, hooks, stream, verify, cert, json)\u001b[0m\n\u001b[0;32m    528\u001b[0m         }\n\u001b[0;32m    529\u001b[0m         \u001b[0msend_kwargs\u001b[0m\u001b[1;33m.\u001b[0m\u001b[0mupdate\u001b[0m\u001b[1;33m(\u001b[0m\u001b[0msettings\u001b[0m\u001b[1;33m)\u001b[0m\u001b[1;33m\u001b[0m\u001b[1;33m\u001b[0m\u001b[0m\n\u001b[1;32m--> 530\u001b[1;33m         \u001b[0mresp\u001b[0m \u001b[1;33m=\u001b[0m \u001b[0mself\u001b[0m\u001b[1;33m.\u001b[0m\u001b[0msend\u001b[0m\u001b[1;33m(\u001b[0m\u001b[0mprep\u001b[0m\u001b[1;33m,\u001b[0m \u001b[1;33m**\u001b[0m\u001b[0msend_kwargs\u001b[0m\u001b[1;33m)\u001b[0m\u001b[1;33m\u001b[0m\u001b[1;33m\u001b[0m\u001b[0m\n\u001b[0m\u001b[0;32m    531\u001b[0m \u001b[1;33m\u001b[0m\u001b[0m\n\u001b[0;32m    532\u001b[0m         \u001b[1;32mreturn\u001b[0m \u001b[0mresp\u001b[0m\u001b[1;33m\u001b[0m\u001b[1;33m\u001b[0m\u001b[0m\n",
      "\u001b[1;32m~\\AppData\\Roaming\\Python\\Python38\\site-packages\\requests\\sessions.py\u001b[0m in \u001b[0;36msend\u001b[1;34m(self, request, **kwargs)\u001b[0m\n\u001b[0;32m    641\u001b[0m \u001b[1;33m\u001b[0m\u001b[0m\n\u001b[0;32m    642\u001b[0m         \u001b[1;31m# Send the request\u001b[0m\u001b[1;33m\u001b[0m\u001b[1;33m\u001b[0m\u001b[1;33m\u001b[0m\u001b[0m\n\u001b[1;32m--> 643\u001b[1;33m         \u001b[0mr\u001b[0m \u001b[1;33m=\u001b[0m \u001b[0madapter\u001b[0m\u001b[1;33m.\u001b[0m\u001b[0msend\u001b[0m\u001b[1;33m(\u001b[0m\u001b[0mrequest\u001b[0m\u001b[1;33m,\u001b[0m \u001b[1;33m**\u001b[0m\u001b[0mkwargs\u001b[0m\u001b[1;33m)\u001b[0m\u001b[1;33m\u001b[0m\u001b[1;33m\u001b[0m\u001b[0m\n\u001b[0m\u001b[0;32m    644\u001b[0m \u001b[1;33m\u001b[0m\u001b[0m\n\u001b[0;32m    645\u001b[0m         \u001b[1;31m# Total elapsed time of the request (approximately)\u001b[0m\u001b[1;33m\u001b[0m\u001b[1;33m\u001b[0m\u001b[1;33m\u001b[0m\u001b[0m\n",
      "\u001b[1;32m~\\AppData\\Roaming\\Python\\Python38\\site-packages\\requests\\adapters.py\u001b[0m in \u001b[0;36msend\u001b[1;34m(self, request, stream, timeout, verify, cert, proxies)\u001b[0m\n\u001b[0;32m    437\u001b[0m         \u001b[1;32mtry\u001b[0m\u001b[1;33m:\u001b[0m\u001b[1;33m\u001b[0m\u001b[1;33m\u001b[0m\u001b[0m\n\u001b[0;32m    438\u001b[0m             \u001b[1;32mif\u001b[0m \u001b[1;32mnot\u001b[0m \u001b[0mchunked\u001b[0m\u001b[1;33m:\u001b[0m\u001b[1;33m\u001b[0m\u001b[1;33m\u001b[0m\u001b[0m\n\u001b[1;32m--> 439\u001b[1;33m                 resp = conn.urlopen(\n\u001b[0m\u001b[0;32m    440\u001b[0m                     \u001b[0mmethod\u001b[0m\u001b[1;33m=\u001b[0m\u001b[0mrequest\u001b[0m\u001b[1;33m.\u001b[0m\u001b[0mmethod\u001b[0m\u001b[1;33m,\u001b[0m\u001b[1;33m\u001b[0m\u001b[1;33m\u001b[0m\u001b[0m\n\u001b[0;32m    441\u001b[0m                     \u001b[0murl\u001b[0m\u001b[1;33m=\u001b[0m\u001b[0murl\u001b[0m\u001b[1;33m,\u001b[0m\u001b[1;33m\u001b[0m\u001b[1;33m\u001b[0m\u001b[0m\n",
      "\u001b[1;32m~\\AppData\\Roaming\\Python\\Python38\\site-packages\\urllib3\\connectionpool.py\u001b[0m in \u001b[0;36murlopen\u001b[1;34m(self, method, url, body, headers, retries, redirect, assert_same_host, timeout, pool_timeout, release_conn, chunked, body_pos, **response_kw)\u001b[0m\n\u001b[0;32m    668\u001b[0m \u001b[1;33m\u001b[0m\u001b[0m\n\u001b[0;32m    669\u001b[0m             \u001b[1;31m# Make the request on the httplib connection object.\u001b[0m\u001b[1;33m\u001b[0m\u001b[1;33m\u001b[0m\u001b[1;33m\u001b[0m\u001b[0m\n\u001b[1;32m--> 670\u001b[1;33m             httplib_response = self._make_request(\n\u001b[0m\u001b[0;32m    671\u001b[0m                 \u001b[0mconn\u001b[0m\u001b[1;33m,\u001b[0m\u001b[1;33m\u001b[0m\u001b[1;33m\u001b[0m\u001b[0m\n\u001b[0;32m    672\u001b[0m                 \u001b[0mmethod\u001b[0m\u001b[1;33m,\u001b[0m\u001b[1;33m\u001b[0m\u001b[1;33m\u001b[0m\u001b[0m\n",
      "\u001b[1;32m~\\AppData\\Roaming\\Python\\Python38\\site-packages\\urllib3\\connectionpool.py\u001b[0m in \u001b[0;36m_make_request\u001b[1;34m(self, conn, method, url, timeout, chunked, **httplib_request_kw)\u001b[0m\n\u001b[0;32m    379\u001b[0m         \u001b[1;31m# Trigger any extra validation we need to do.\u001b[0m\u001b[1;33m\u001b[0m\u001b[1;33m\u001b[0m\u001b[1;33m\u001b[0m\u001b[0m\n\u001b[0;32m    380\u001b[0m         \u001b[1;32mtry\u001b[0m\u001b[1;33m:\u001b[0m\u001b[1;33m\u001b[0m\u001b[1;33m\u001b[0m\u001b[0m\n\u001b[1;32m--> 381\u001b[1;33m             \u001b[0mself\u001b[0m\u001b[1;33m.\u001b[0m\u001b[0m_validate_conn\u001b[0m\u001b[1;33m(\u001b[0m\u001b[0mconn\u001b[0m\u001b[1;33m)\u001b[0m\u001b[1;33m\u001b[0m\u001b[1;33m\u001b[0m\u001b[0m\n\u001b[0m\u001b[0;32m    382\u001b[0m         \u001b[1;32mexcept\u001b[0m \u001b[1;33m(\u001b[0m\u001b[0mSocketTimeout\u001b[0m\u001b[1;33m,\u001b[0m \u001b[0mBaseSSLError\u001b[0m\u001b[1;33m)\u001b[0m \u001b[1;32mas\u001b[0m \u001b[0me\u001b[0m\u001b[1;33m:\u001b[0m\u001b[1;33m\u001b[0m\u001b[1;33m\u001b[0m\u001b[0m\n\u001b[0;32m    383\u001b[0m             \u001b[1;31m# Py2 raises this as a BaseSSLError, Py3 raises it as socket timeout.\u001b[0m\u001b[1;33m\u001b[0m\u001b[1;33m\u001b[0m\u001b[1;33m\u001b[0m\u001b[0m\n",
      "\u001b[1;32m~\\AppData\\Roaming\\Python\\Python38\\site-packages\\urllib3\\connectionpool.py\u001b[0m in \u001b[0;36m_validate_conn\u001b[1;34m(self, conn)\u001b[0m\n\u001b[0;32m    976\u001b[0m         \u001b[1;31m# Force connect early to allow us to validate the connection.\u001b[0m\u001b[1;33m\u001b[0m\u001b[1;33m\u001b[0m\u001b[1;33m\u001b[0m\u001b[0m\n\u001b[0;32m    977\u001b[0m         \u001b[1;32mif\u001b[0m \u001b[1;32mnot\u001b[0m \u001b[0mgetattr\u001b[0m\u001b[1;33m(\u001b[0m\u001b[0mconn\u001b[0m\u001b[1;33m,\u001b[0m \u001b[1;34m\"sock\"\u001b[0m\u001b[1;33m,\u001b[0m \u001b[1;32mNone\u001b[0m\u001b[1;33m)\u001b[0m\u001b[1;33m:\u001b[0m  \u001b[1;31m# AppEngine might not have  `.sock`\u001b[0m\u001b[1;33m\u001b[0m\u001b[1;33m\u001b[0m\u001b[0m\n\u001b[1;32m--> 978\u001b[1;33m             \u001b[0mconn\u001b[0m\u001b[1;33m.\u001b[0m\u001b[0mconnect\u001b[0m\u001b[1;33m(\u001b[0m\u001b[1;33m)\u001b[0m\u001b[1;33m\u001b[0m\u001b[1;33m\u001b[0m\u001b[0m\n\u001b[0m\u001b[0;32m    979\u001b[0m \u001b[1;33m\u001b[0m\u001b[0m\n\u001b[0;32m    980\u001b[0m         \u001b[1;32mif\u001b[0m \u001b[1;32mnot\u001b[0m \u001b[0mconn\u001b[0m\u001b[1;33m.\u001b[0m\u001b[0mis_verified\u001b[0m\u001b[1;33m:\u001b[0m\u001b[1;33m\u001b[0m\u001b[1;33m\u001b[0m\u001b[0m\n",
      "\u001b[1;32m~\\AppData\\Roaming\\Python\\Python38\\site-packages\\urllib3\\connection.py\u001b[0m in \u001b[0;36mconnect\u001b[1;34m(self)\u001b[0m\n\u001b[0;32m    307\u001b[0m     \u001b[1;32mdef\u001b[0m \u001b[0mconnect\u001b[0m\u001b[1;33m(\u001b[0m\u001b[0mself\u001b[0m\u001b[1;33m)\u001b[0m\u001b[1;33m:\u001b[0m\u001b[1;33m\u001b[0m\u001b[1;33m\u001b[0m\u001b[0m\n\u001b[0;32m    308\u001b[0m         \u001b[1;31m# Add certificate verification\u001b[0m\u001b[1;33m\u001b[0m\u001b[1;33m\u001b[0m\u001b[1;33m\u001b[0m\u001b[0m\n\u001b[1;32m--> 309\u001b[1;33m         \u001b[0mconn\u001b[0m \u001b[1;33m=\u001b[0m \u001b[0mself\u001b[0m\u001b[1;33m.\u001b[0m\u001b[0m_new_conn\u001b[0m\u001b[1;33m(\u001b[0m\u001b[1;33m)\u001b[0m\u001b[1;33m\u001b[0m\u001b[1;33m\u001b[0m\u001b[0m\n\u001b[0m\u001b[0;32m    310\u001b[0m         \u001b[0mhostname\u001b[0m \u001b[1;33m=\u001b[0m \u001b[0mself\u001b[0m\u001b[1;33m.\u001b[0m\u001b[0mhost\u001b[0m\u001b[1;33m\u001b[0m\u001b[1;33m\u001b[0m\u001b[0m\n\u001b[0;32m    311\u001b[0m \u001b[1;33m\u001b[0m\u001b[0m\n",
      "\u001b[1;32m~\\AppData\\Roaming\\Python\\Python38\\site-packages\\urllib3\\connection.py\u001b[0m in \u001b[0;36m_new_conn\u001b[1;34m(self)\u001b[0m\n\u001b[0;32m    157\u001b[0m \u001b[1;33m\u001b[0m\u001b[0m\n\u001b[0;32m    158\u001b[0m         \u001b[1;32mtry\u001b[0m\u001b[1;33m:\u001b[0m\u001b[1;33m\u001b[0m\u001b[1;33m\u001b[0m\u001b[0m\n\u001b[1;32m--> 159\u001b[1;33m             conn = connection.create_connection(\n\u001b[0m\u001b[0;32m    160\u001b[0m                 \u001b[1;33m(\u001b[0m\u001b[0mself\u001b[0m\u001b[1;33m.\u001b[0m\u001b[0m_dns_host\u001b[0m\u001b[1;33m,\u001b[0m \u001b[0mself\u001b[0m\u001b[1;33m.\u001b[0m\u001b[0mport\u001b[0m\u001b[1;33m)\u001b[0m\u001b[1;33m,\u001b[0m \u001b[0mself\u001b[0m\u001b[1;33m.\u001b[0m\u001b[0mtimeout\u001b[0m\u001b[1;33m,\u001b[0m \u001b[1;33m**\u001b[0m\u001b[0mextra_kw\u001b[0m\u001b[1;33m\u001b[0m\u001b[1;33m\u001b[0m\u001b[0m\n\u001b[0;32m    161\u001b[0m             )\n",
      "\u001b[1;32m~\\AppData\\Roaming\\Python\\Python38\\site-packages\\urllib3\\util\\connection.py\u001b[0m in \u001b[0;36mcreate_connection\u001b[1;34m(address, timeout, source_address, socket_options)\u001b[0m\n\u001b[0;32m     59\u001b[0m     \u001b[0mfamily\u001b[0m \u001b[1;33m=\u001b[0m \u001b[0mallowed_gai_family\u001b[0m\u001b[1;33m(\u001b[0m\u001b[1;33m)\u001b[0m\u001b[1;33m\u001b[0m\u001b[1;33m\u001b[0m\u001b[0m\n\u001b[0;32m     60\u001b[0m \u001b[1;33m\u001b[0m\u001b[0m\n\u001b[1;32m---> 61\u001b[1;33m     \u001b[1;32mfor\u001b[0m \u001b[0mres\u001b[0m \u001b[1;32min\u001b[0m \u001b[0msocket\u001b[0m\u001b[1;33m.\u001b[0m\u001b[0mgetaddrinfo\u001b[0m\u001b[1;33m(\u001b[0m\u001b[0mhost\u001b[0m\u001b[1;33m,\u001b[0m \u001b[0mport\u001b[0m\u001b[1;33m,\u001b[0m \u001b[0mfamily\u001b[0m\u001b[1;33m,\u001b[0m \u001b[0msocket\u001b[0m\u001b[1;33m.\u001b[0m\u001b[0mSOCK_STREAM\u001b[0m\u001b[1;33m)\u001b[0m\u001b[1;33m:\u001b[0m\u001b[1;33m\u001b[0m\u001b[1;33m\u001b[0m\u001b[0m\n\u001b[0m\u001b[0;32m     62\u001b[0m         \u001b[0maf\u001b[0m\u001b[1;33m,\u001b[0m \u001b[0msocktype\u001b[0m\u001b[1;33m,\u001b[0m \u001b[0mproto\u001b[0m\u001b[1;33m,\u001b[0m \u001b[0mcanonname\u001b[0m\u001b[1;33m,\u001b[0m \u001b[0msa\u001b[0m \u001b[1;33m=\u001b[0m \u001b[0mres\u001b[0m\u001b[1;33m\u001b[0m\u001b[1;33m\u001b[0m\u001b[0m\n\u001b[0;32m     63\u001b[0m         \u001b[0msock\u001b[0m \u001b[1;33m=\u001b[0m \u001b[1;32mNone\u001b[0m\u001b[1;33m\u001b[0m\u001b[1;33m\u001b[0m\u001b[0m\n",
      "\u001b[1;32mD:\\anaconda\\lib\\socket.py\u001b[0m in \u001b[0;36mgetaddrinfo\u001b[1;34m(host, port, family, type, proto, flags)\u001b[0m\n\u001b[0;32m    916\u001b[0m     \u001b[1;31m# and socket type values to enum constants.\u001b[0m\u001b[1;33m\u001b[0m\u001b[1;33m\u001b[0m\u001b[1;33m\u001b[0m\u001b[0m\n\u001b[0;32m    917\u001b[0m     \u001b[0maddrlist\u001b[0m \u001b[1;33m=\u001b[0m \u001b[1;33m[\u001b[0m\u001b[1;33m]\u001b[0m\u001b[1;33m\u001b[0m\u001b[1;33m\u001b[0m\u001b[0m\n\u001b[1;32m--> 918\u001b[1;33m     \u001b[1;32mfor\u001b[0m \u001b[0mres\u001b[0m \u001b[1;32min\u001b[0m \u001b[0m_socket\u001b[0m\u001b[1;33m.\u001b[0m\u001b[0mgetaddrinfo\u001b[0m\u001b[1;33m(\u001b[0m\u001b[0mhost\u001b[0m\u001b[1;33m,\u001b[0m \u001b[0mport\u001b[0m\u001b[1;33m,\u001b[0m \u001b[0mfamily\u001b[0m\u001b[1;33m,\u001b[0m \u001b[0mtype\u001b[0m\u001b[1;33m,\u001b[0m \u001b[0mproto\u001b[0m\u001b[1;33m,\u001b[0m \u001b[0mflags\u001b[0m\u001b[1;33m)\u001b[0m\u001b[1;33m:\u001b[0m\u001b[1;33m\u001b[0m\u001b[1;33m\u001b[0m\u001b[0m\n\u001b[0m\u001b[0;32m    919\u001b[0m         \u001b[0maf\u001b[0m\u001b[1;33m,\u001b[0m \u001b[0msocktype\u001b[0m\u001b[1;33m,\u001b[0m \u001b[0mproto\u001b[0m\u001b[1;33m,\u001b[0m \u001b[0mcanonname\u001b[0m\u001b[1;33m,\u001b[0m \u001b[0msa\u001b[0m \u001b[1;33m=\u001b[0m \u001b[0mres\u001b[0m\u001b[1;33m\u001b[0m\u001b[1;33m\u001b[0m\u001b[0m\n\u001b[0;32m    920\u001b[0m         addrlist.append((_intenum_converter(af, AddressFamily),\n",
      "\u001b[1;31mKeyboardInterrupt\u001b[0m: "
     ]
    }
   ],
   "source": [
    "data_dict={}\n",
    "total_count=0\n",
    "import time\n",
    "for tag_root in trs_root:\n",
    "    start=time.time()\n",
    "    tag_data_list=[]\n",
    "    lec_node=tag_root.find('a')\n",
    "    if lec_node is None:\n",
    "        break\n",
    "    lec_tag=lec_node.string\n",
    "    data_dict[lec_tag]=[]\n",
    "    lec_url=lec_node['href']\n",
    "    tag_page=requests.get(root+lec_url)\n",
    "    count=0\n",
    "    while True:\n",
    "        bs_tag=BeautifulSoup(tag_page.text, 'lxml')\n",
    "        trs_lec=bs_tag.find_all('tr')\n",
    "        for tr in trs_lec:\n",
    "            if tr.get('bgcolor', None) is not None and tr.get('class', None) is None:\n",
    "                detail_url=tr.find_all('td')[1].find('a')['href']\n",
    "                detail_link=root+detail_url\n",
    "                detail_page=requests.get(detail_link)\n",
    "                bs_detail=BeautifulSoup(detail_page.text, 'lxml')\n",
    "                trs_detail=bs_detail.find_all('tr')\n",
    "                tr_detail_dict={}\n",
    "                for tr in trs_detail:\n",
    "                    tds=tr.find_all('td')\n",
    "                    if len(tds)>0:\n",
    "                        node1=tds[0].find('div')\n",
    "                        if node1 is not None and node1.string is not None:\n",
    "                            s=node1.string.strip()\n",
    "\n",
    "                            if s in cols:\n",
    "                                tr_detail_dict[s]=tds[1].string\n",
    "                            tr_detail_dict['链接']=detail_link\n",
    "                tag_data_list.append(tr_detail_dict)\n",
    "#                 #columns: '报告时间','标题','报告人','地点','链接'\n",
    "#                 cols=tr.find_all('td')\n",
    "#                 cols[1]=cols[1].find('a')\n",
    "#                 data_dict[lec_tag].append([col.string for col in cols] + [root+nextpage_url])\n",
    "        nextpage_node=bs_tag.find('a', string=re.compile('.*下.*页.*'))\n",
    "        if nextpage_node is None:\n",
    "            break\n",
    "        nextpage_url=nextpage_node['href']\n",
    "        tag_page=requests.get(root+nextpage_url)\n",
    "        count+=1\n",
    "        if count >= 2:\n",
    "            break\n",
    "        print(count)\n",
    "    data_dict[lec_tag]=pd.DataFrame.from_records(tag_data_list)\n",
    "    end=time.time()\n",
    "    print(lec_tag, end-start)\n",
    "    total_count+=1\n",
    "    if total_count>=2:\n",
    "        break"
   ]
  },
  {
   "cell_type": "code",
   "execution_count": 62,
   "metadata": {},
   "outputs": [],
   "source": [
    "for key in data_dict:\n",
    "    data_dict[key].to_csv(\"{}.csv\".format(key), index=False)"
   ]
  },
  {
   "cell_type": "code",
   "execution_count": 63,
   "metadata": {},
   "outputs": [],
   "source": [
    "df=pd.read_csv('经济学.csv')"
   ]
  },
  {
   "cell_type": "code",
   "execution_count": 64,
   "metadata": {},
   "outputs": [
    {
     "data": {
      "text/html": [
       "<div>\n",
       "<style scoped>\n",
       "    .dataframe tbody tr th:only-of-type {\n",
       "        vertical-align: middle;\n",
       "    }\n",
       "\n",
       "    .dataframe tbody tr th {\n",
       "        vertical-align: top;\n",
       "    }\n",
       "\n",
       "    .dataframe thead th {\n",
       "        text-align: right;\n",
       "    }\n",
       "</style>\n",
       "<table border=\"1\" class=\"dataframe\">\n",
       "  <thead>\n",
       "    <tr style=\"text-align: right;\">\n",
       "      <th></th>\n",
       "      <th>报告题目:</th>\n",
       "      <th>链接</th>\n",
       "      <th>报告人:</th>\n",
       "      <th>报告时间:</th>\n",
       "      <th>报告地点:</th>\n",
       "      <th>主办单位:</th>\n",
       "    </tr>\n",
       "  </thead>\n",
       "  <tbody>\n",
       "    <tr>\n",
       "      <th>0</th>\n",
       "      <td>讲座预告 | 中美风暴下的风险与对策-金融EMBA师友沙龙</td>\n",
       "      <td>https://kyybgxx.cic.tsinghua.edu.cn/kybg/xsgg/...</td>\n",
       "      <td>鞠建东教授等</td>\n",
       "      <td>2020-09-12 20:00</td>\n",
       "      <td>线上</td>\n",
       "      <td>清华五道口金融EMBA中心</td>\n",
       "    </tr>\n",
       "    <tr>\n",
       "      <th>1</th>\n",
       "      <td>2019中国金融科技学术年会</td>\n",
       "      <td>https://kyybgxx.cic.tsinghua.edu.cn/kybg/xsgg/...</td>\n",
       "      <td>NaN</td>\n",
       "      <td>2019-12-21 08:30</td>\n",
       "      <td>北京香山饭店</td>\n",
       "      <td>NaN</td>\n",
       "    </tr>\n",
       "    <tr>\n",
       "      <th>2</th>\n",
       "      <td>名师微沙龙：文科PI系列第一场</td>\n",
       "      <td>https://kyybgxx.cic.tsinghua.edu.cn/kybg/xsgg/...</td>\n",
       "      <td>仇军</td>\n",
       "      <td>2019-12-11 16:30</td>\n",
       "      <td>李文正图书馆负一层邺架轩书店</td>\n",
       "      <td>文科建设处</td>\n",
       "    </tr>\n",
       "    <tr>\n",
       "      <th>3</th>\n",
       "      <td>清华五道口金融家大讲堂</td>\n",
       "      <td>https://kyybgxx.cic.tsinghua.edu.cn/kybg/xsgg/...</td>\n",
       "      <td>Sheila M'Mbijjewe</td>\n",
       "      <td>2019-12-10 16:00</td>\n",
       "      <td>清华大学五道口金融学院1-200</td>\n",
       "      <td>清华大学五道口金融学院</td>\n",
       "    </tr>\n",
       "    <tr>\n",
       "      <th>4</th>\n",
       "      <td>气候变化大讲堂第14讲：能源低碳转型与气候变化</td>\n",
       "      <td>https://kyybgxx.cic.tsinghua.edu.cn/kybg/xsgg/...</td>\n",
       "      <td>李政</td>\n",
       "      <td>2019-11-28 10:00</td>\n",
       "      <td>清华大学能源与动力工程系系馆报告厅（清华二校门旁）</td>\n",
       "      <td>清华大学气候变化与可持续发展研究院</td>\n",
       "    </tr>\n",
       "  </tbody>\n",
       "</table>\n",
       "</div>"
      ],
      "text/plain": [
       "                           报告题目:  \\\n",
       "0  讲座预告 | 中美风暴下的风险与对策-金融EMBA师友沙龙   \n",
       "1                 2019中国金融科技学术年会   \n",
       "2                名师微沙龙：文科PI系列第一场   \n",
       "3                    清华五道口金融家大讲堂   \n",
       "4        气候变化大讲堂第14讲：能源低碳转型与气候变化   \n",
       "\n",
       "                                                  链接               报告人:  \\\n",
       "0  https://kyybgxx.cic.tsinghua.edu.cn/kybg/xsgg/...             鞠建东教授等   \n",
       "1  https://kyybgxx.cic.tsinghua.edu.cn/kybg/xsgg/...                NaN   \n",
       "2  https://kyybgxx.cic.tsinghua.edu.cn/kybg/xsgg/...                 仇军   \n",
       "3  https://kyybgxx.cic.tsinghua.edu.cn/kybg/xsgg/...  Sheila M'Mbijjewe   \n",
       "4  https://kyybgxx.cic.tsinghua.edu.cn/kybg/xsgg/...                 李政   \n",
       "\n",
       "              报告时间:                      报告地点:              主办单位:  \n",
       "0  2020-09-12 20:00                         线上      清华五道口金融EMBA中心  \n",
       "1  2019-12-21 08:30                     北京香山饭店                NaN  \n",
       "2  2019-12-11 16:30             李文正图书馆负一层邺架轩书店              文科建设处  \n",
       "3  2019-12-10 16:00           清华大学五道口金融学院1-200       清华大学五道口金融学院   \n",
       "4  2019-11-28 10:00  清华大学能源与动力工程系系馆报告厅（清华二校门旁）  清华大学气候变化与可持续发展研究院  "
      ]
     },
     "execution_count": 64,
     "metadata": {},
     "output_type": "execute_result"
    }
   ],
   "source": [
    "df.head()"
   ]
  },
  {
   "cell_type": "code",
   "execution_count": 20,
   "metadata": {},
   "outputs": [],
   "source": [
    "s='　　简介:'"
   ]
  },
  {
   "cell_type": "code",
   "execution_count": 22,
   "metadata": {},
   "outputs": [
    {
     "output_type": "execute_result",
     "data": {
      "text/plain": [
       "'简介:'"
      ]
     },
     "metadata": {},
     "execution_count": 22
    }
   ],
   "source": [
    "s.strip()"
   ]
  },
  {
   "cell_type": "code",
   "execution_count": null,
   "metadata": {},
   "outputs": [],
   "source": []
  }
 ],
 "metadata": {
  "kernelspec": {
   "display_name": "Python 3",
   "language": "python",
   "name": "python3"
  },
  "language_info": {
   "codemirror_mode": {
    "name": "ipython",
    "version": 3
   },
   "file_extension": ".py",
   "mimetype": "text/x-python",
   "name": "python",
   "nbconvert_exporter": "python",
   "pygments_lexer": "ipython3",
   "version": "3.8.3-final"
  }
 },
 "nbformat": 4,
 "nbformat_minor": 4
}