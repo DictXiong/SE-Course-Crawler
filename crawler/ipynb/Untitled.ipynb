{
 "cells": [
  {
   "cell_type": "code",
   "execution_count": 84,
   "metadata": {},
   "outputs": [],
   "source": [
    "import re\n",
    "import datetime\n",
    "import requests\n",
    "from bs4 import BeautifulSoup\n",
    "import pandas as pd"
   ]
  },
  {
   "cell_type": "code",
   "execution_count": 2,
   "metadata": {},
   "outputs": [],
   "source": [
    "cols=['标题', '单位', '时间', '报告地点:', '主办单位:']"
   ]
  },
  {
   "cell_type": "code",
   "execution_count": 117,
   "metadata": {},
   "outputs": [],
   "source": [
    "class AnnouncementsData(object):\n",
    "    '''\n",
    "    获取info公告的数据\n",
    "    '''\n",
    "    COLUMNS = ['title', 'reporter', 'time', 'content', 'url']\n",
    "    def __init__(self):\n",
    "        self.root_url = \"http://postinfo.tsinghua.edu.cn\"\n",
    "        self.enter_url_eduadmin = \"/f/bangongtongzhi/more\"\n",
    "        self.enter_url_important = \"/f/zhongyaogonggao/more\"\n",
    "        self.columns = ['title', 'reporter', 'time', 'content', 'url']\n",
    "    \n",
    "    def get_eduadmin_announcement_data(self, page_count:int=-1):\n",
    "        \"\"\"\n",
    "        读取教务公告数据\n",
    "        Parameter:\n",
    "            page_count: int, 读取的页数 \n",
    "        Return:\n",
    "            pd.DataFrame\n",
    "        \"\"\"\n",
    "        page = requests.get(self.root_url + self.enter_url_eduadmin)\n",
    "        data_list = []\n",
    "        count = 0\n",
    "        while True:\n",
    "            page_bs = BeautifulSoup(page.text, 'lxml')\n",
    "            lis_page = page_bs.find_all(name='li')\n",
    "            for li in lis_page:\n",
    "                if li.find('em') is None:\n",
    "                    continue\n",
    "                one_notice_dict = {}\n",
    "                a = li.find('a')\n",
    "                ti = li.find('time')\n",
    "                one_notice_dict['title'] = a.string\n",
    "                if '[' not in a.string:\n",
    "                    #题目中没有[的情况\n",
    "                    one_notice_dict['reporter'] = li.text.split('[')[1].split(']')[0]\n",
    "                else:\n",
    "                    #题目中有[的情况\n",
    "                    one_notice_dict['reporter'] = li.text.split('[')[1+len(re.findall('\\[', a.string))].split(']')[0]\n",
    "                one_notice_dict['time'] = int(datetime.datetime.strptime(ti.string, \"%Y.%m.%d\").timestamp())\n",
    "                detail_url = a['href']\n",
    "                if 'http://' not in detail_url and 'https://' not in detail_url:\n",
    "                    detail_url = self.root_url + detail_url\n",
    "                detail_page = requests.get(detail_url)\n",
    "                detail_bs = BeautifulSoup(detail_page.text, 'lxml')\n",
    "                one_notice_dict['content'] = '\\n'.join(detail_bs.text.split())\n",
    "                one_notice_dict['url'] = detail_url\n",
    "                data_list.append(one_notice_dict)\n",
    "            nextpage_node = page_bs.find(name=\"a\", string=re.compile(\".*>.*\"))\n",
    "            if nextpage_node is None or nextpage_node.get('href', None) is None:\n",
    "                break\n",
    "            nextpage_url = nextpage_node['href']\n",
    "            nextpage_url = self.root_url + nextpage_url\n",
    "            page = requests.get(nextpage_url)\n",
    "            count += 1\n",
    "            if page_count > 0 and count >= page_count:\n",
    "                break\n",
    "        return pd.DataFrame.from_records(data_list)\n",
    "\n",
    "    def get_important_announcement_data(self):\n",
    "        \"\"\"\n",
    "        读取重要公告数据，只有一页\n",
    "        Parameter:\n",
    "            \n",
    "        Return:\n",
    "            pd.DataFrame\n",
    "        \"\"\"\n",
    "        page = requests.get(self.root_url + self.enter_url_important)\n",
    "        data_list = []\n",
    "        page_bs = BeautifulSoup(page.text, 'lxml')\n",
    "        trs_page = page_bs.find_all(name='tr')\n",
    "        for tr in trs_page:\n",
    "            one_notice_dict = {}\n",
    "            a = tr.find('a')\n",
    "            one_notice_dict['title'] = a.string\n",
    "            if '[' not in a.string:\n",
    "                #title中没有[的情况\n",
    "                one_notice_dict['reporter'] = tr.text.split('[')[1].split(']')[0]\n",
    "            else:\n",
    "                #title中有[的情况\n",
    "                one_notice_dict['reporter'] = tr.text.split('[')[1+len(re.findall('\\[', a.string))].split(']')[0]\n",
    "            detail_url = a['href']\n",
    "            if 'http://' not in detail_url and 'https://' not in detail_url:\n",
    "                detail_url = self.root_url + detail_url\n",
    "            detail_page = requests.get(detail_url)\n",
    "            detail_bs = BeautifulSoup(detail_page.text, 'lxml')\n",
    "            tis = re.findall(\".*[0-9]*年[0-9]*月[0-9]*日.*\", detail_bs.text)\n",
    "            if len(tis) > 0:\n",
    "                one_notice_dict['time'] = int(datetime.datetime.strptime(tis[-1].strip(), \"%Y年%m月%d日\").timestamp())\n",
    "            else:\n",
    "                one_notice_dict['time'] = -1\n",
    "            one_notice_dict['content'] = '\\n'.join(detail_bs.text.split())\n",
    "            one_notice_dict['url'] = detail_url\n",
    "            data_list.append(one_notice_dict)\n",
    "        return pd.DataFrame.from_records(data_list)\n",
    "\n",
    "    "
   ]
  },
  {
   "cell_type": "code",
   "execution_count": 118,
   "metadata": {},
   "outputs": [],
   "source": [
    "announcementsdata = AnnouncementsData()"
   ]
  },
  {
   "cell_type": "code",
   "execution_count": 97,
   "metadata": {},
   "outputs": [
    {
     "output_type": "stream",
     "name": "stdout",
     "text": [
      "                                   title  reporter        time  \\\n0    关于举办2020年清华大学离退休教职工八十寿辰祝寿会暨金婚庆典的通知     离退休工作处  1602432000   \n1       2020年秋季学期 “第一次·从‘零’开始”大型无偿献血专场通知       校团委  1602432000   \n2                         汇款确认通知20201012       财务处  1602432000   \n3                中央纪委国家监委通报11起“四风”问题典型案例  纪委办公室监察室  1602432000   \n4  清办发(2020) 第32号 关于2020年10月毕业生离校工作安排的通知      党办校办  1602432000   \n5         转发教育部关于做好《保障中小企业款项支付条例》施行工作的通知       财务处  1602432000   \n6        清华大学博士生“学习与发展”调查邀请（博士二年级、三年级同学）      研究生院  1602432000   \n7            2020-2021学年秋第5周校级科研条件平台培训通知      实验室处  1602259200   \n8                 关于网站建设运营服务合作供应商遴选结果的通知  信息化工作办公室  1602259200   \n9                 关于做好2020年度某人才计划推荐工作的通知       人事处  1602259200   \n\n                                             content  \\\n0  清华大学\\n当前位置：\\n首页\\n>>\\n办公通知\\n关于举办2020年清华大学离退休教职工...   \n1  清华大学\\n当前位置：\\n首页\\n>>\\n办公通知\\n2020年秋季学期\\n“第一次·从‘零...   \n2  清华大学\\n当前位置：\\n汇款确认\\n汇款确认通知20201012\\n【发布时间:2020-...   \n3  清华大学\\n当前位置：\\n通知公告\\n中央纪委国家监委通报11起“四风”问题典型案例\\n【发...   \n4  清华大学两办信息办公网\\n清办发(2020)\\n第32号\\n关于2020年10月毕业生离校工...   \n5  清华大学\\n当前位置：\\n首页\\n>>\\n办公通知\\n转发教育部关于做好《保障中小企业款项支...   \n6  研究生院办公网内网\\n当前位置:\\n>>首页\\n>>教务通知\\n清华大学博士生“学习与发展”...   \n7  清华大学实验室管理处\\n查询\\n首页\\n工作信息\\n办公指南\\n机构与职能\\n文件与规章\\n...   \n8  关于网站建设运营服务合作供应商遴选结果的通知\\n|\\n清华大学内网信息发布平台\\n﻿\\n关于...   \n9  人事处办公信息网\\n关于做好2020年度某人才计划推荐工作的通知\\n发布时间:\\n2020-...   \n\n                                                 url  \n0  http://bmxxfb.cic.tsinghua.edu.cn/boarddetail_...  \n1  http://bmxxfb.cic.tsinghua.edu.cn/boarddetail_...  \n2  http://bmxxfb.cic.tsinghua.edu.cn/boarddetail_...  \n3  http://bmxxfb.cic.tsinghua.edu.cn/boarddetail_...  \n4  http://xxbg.cic.tsinghua.edu.cn/oath/detail.js...  \n5  http://bmxxfb.cic.tsinghua.edu.cn/boarddetail_...  \n6  http://yjsy.cic.tsinghua.edu.cn/boarddetail_ca...  \n7  http://www.syssbc.tsinghua.edu.cn//xxfb/xxfbAc...  \n8        http://postinfo.tsinghua.edu.cn/node/280468  \n9  http://rsc.tsinghua.edu.cn/rscbg/detail.jsp?bo...  \n"
     ]
    },
    {
     "output_type": "error",
     "ename": "AttributeError",
     "evalue": "'AnnouncementsData' object has no attribute 'get_important_announcement_data'",
     "traceback": [
      "\u001b[1;31m---------------------------------------------------------------------------\u001b[0m",
      "\u001b[1;31mAttributeError\u001b[0m                            Traceback (most recent call last)",
      "\u001b[1;32m<ipython-input-97-174c4939b064>\u001b[0m in \u001b[0;36m<module>\u001b[1;34m\u001b[0m\n\u001b[0;32m      1\u001b[0m \u001b[0meduadmin\u001b[0m \u001b[1;33m=\u001b[0m \u001b[0mannouncementsdata\u001b[0m\u001b[1;33m.\u001b[0m\u001b[0mget_eduadmin_announcement_data\u001b[0m\u001b[1;33m(\u001b[0m\u001b[1;36m2\u001b[0m\u001b[1;33m)\u001b[0m\u001b[1;33m\u001b[0m\u001b[1;33m\u001b[0m\u001b[0m\n\u001b[0;32m      2\u001b[0m \u001b[0mprint\u001b[0m\u001b[1;33m(\u001b[0m\u001b[0meduadmin\u001b[0m\u001b[1;33m.\u001b[0m\u001b[0mhead\u001b[0m\u001b[1;33m(\u001b[0m\u001b[1;36m10\u001b[0m\u001b[1;33m)\u001b[0m\u001b[1;33m)\u001b[0m\u001b[1;33m\u001b[0m\u001b[1;33m\u001b[0m\u001b[0m\n\u001b[1;32m----> 3\u001b[1;33m \u001b[0mimportant\u001b[0m \u001b[1;33m=\u001b[0m \u001b[0mannouncementdata\u001b[0m\u001b[1;33m.\u001b[0m\u001b[0mget_important_announcement_data\u001b[0m\u001b[1;33m(\u001b[0m\u001b[1;36m2\u001b[0m\u001b[1;33m)\u001b[0m\u001b[1;33m\u001b[0m\u001b[1;33m\u001b[0m\u001b[0m\n\u001b[0m\u001b[0;32m      4\u001b[0m \u001b[0mprint\u001b[0m\u001b[1;33m(\u001b[0m\u001b[0mimportant\u001b[0m\u001b[1;33m.\u001b[0m\u001b[0mhead\u001b[0m\u001b[1;33m(\u001b[0m\u001b[1;36m5\u001b[0m\u001b[1;33m)\u001b[0m\u001b[1;33m)\u001b[0m\u001b[1;33m\u001b[0m\u001b[1;33m\u001b[0m\u001b[0m\n",
      "\u001b[1;31mAttributeError\u001b[0m: 'AnnouncementsData' object has no attribute 'get_important_announcement_data'"
     ]
    }
   ],
   "source": [
    "eduadmin = announcementsdata.get_eduadmin_announcement_data(2)\n",
    "print(eduadmin.head(10))"
   ]
  },
  {
   "cell_type": "code",
   "execution_count": 119,
   "metadata": {},
   "outputs": [
    {
     "output_type": "stream",
     "name": "stdout",
     "text": [
      "                                 title  reporter        time  \\\n0                       审计公告（2020年第7号）  纪委办公室监察室  1602172800   \n1    清校发(2020) 第51号 关于开展“小金库”自查自纠工作的通知  纪委办公室监察室  1601222400   \n2  关于调整2020～2021学年度秋季学期校历及部分节假日放假调课的通知  纪委办公室监察室  1599753600   \n3             2020年秋季学期节假日放假调课安排及调课示意图  纪委办公室监察室  1599753600   \n4        关于2020-2021学年度秋季学期教学工作基本要求的通知  纪委办公室监察室  1597852800   \n\n                                             content  \\\n0  清华大学\\n当前位置：\\n首页\\n>>\\n通知通告\\n审计公告（2020年第7号）\\n202...   \n1  清华大学两办信息办公网\\n(2020)\\n第51号\\n关于开展“小金库”自查自纠工作的通知\\...   \n2  清华大学两办信息办公网\\n清办发(2020)\\n第29号\\n关于调整2020～2021学年度...   \n3  教务处办公信息系统\\n2020年秋季学期节假日放假调课安排及调课示意图\\n【分类:\\n综合办...   \n4  教务处办公信息系统\\n关于2020-2021学年度秋季学期教学工作基本要求的通知\\n【分类:...   \n\n                                                 url  \n0  http://bmxxfb.cic.tsinghua.edu.cn/docinfo/boar...  \n1  http://xxbg.cic.tsinghua.edu.cn/oath/detail.js...  \n2  http://xxbg.cic.tsinghua.edu.cn/oath/detail.js...  \n3  http://jwcbg.cic.tsinghua.edu.cn/jwcbg/detail_...  \n4  http://jwcbg.cic.tsinghua.edu.cn/jwcbg/detail_...  \n"
     ]
    }
   ],
   "source": [
    "important = announcementsdata.get_important_announcement_data()\n",
    "print(important.head(5))"
   ]
  },
  {
   "cell_type": "code",
   "execution_count": 122,
   "metadata": {},
   "outputs": [
    {
     "output_type": "execute_result",
     "data": {
      "text/plain": [
       "                                 title  reporter        time  \\\n",
       "0                       审计公告（2020年第7号）  纪委办公室监察室  1602172800   \n",
       "1    清校发(2020) 第51号 关于开展“小金库”自查自纠工作的通知  纪委办公室监察室  1601222400   \n",
       "2  关于调整2020～2021学年度秋季学期校历及部分节假日放假调课的通知  纪委办公室监察室  1599753600   \n",
       "3             2020年秋季学期节假日放假调课安排及调课示意图  纪委办公室监察室  1599753600   \n",
       "4        关于2020-2021学年度秋季学期教学工作基本要求的通知  纪委办公室监察室  1597852800   \n",
       "5             清华大学2020年8月授予博士、硕士学位情况通报  纪委办公室监察室          -1   \n",
       "6    关于2021-2023年改善基本办学条件项目申报工作安排的补充通知  纪委办公室监察室  1593878400   \n",
       "7             清华大学2020年6月授予博士、硕士学位情况通报  纪委办公室监察室          -1   \n",
       "8                  关于开展经费收支情况自查自纠工作的通知  纪委办公室监察室  1591804800   \n",
       "9                 清华大学第十八次科研工作讨论会工作方案   纪委办公室监察室          -1   \n",
       "\n",
       "                                             content  \\\n",
       "0  清华大学\\n当前位置：\\n首页\\n>>\\n通知通告\\n审计公告（2020年第7号）\\n202...   \n",
       "1  清华大学两办信息办公网\\n(2020)\\n第51号\\n关于开展“小金库”自查自纠工作的通知\\...   \n",
       "2  清华大学两办信息办公网\\n清办发(2020)\\n第29号\\n关于调整2020～2021学年度...   \n",
       "3  教务处办公信息系统\\n2020年秋季学期节假日放假调课安排及调课示意图\\n【分类:\\n综合办...   \n",
       "4  教务处办公信息系统\\n关于2020-2021学年度秋季学期教学工作基本要求的通知\\n【分类:...   \n",
       "5  %PDF-1.7\\n%����\\n1\\n0\\nobj\\n<>/Metadata\\n12441...   \n",
       "6  清华大学\\n当前位置：\\n首页\\n>>\\n办公通知\\n关于2021-2023年改善基本办学条...   \n",
       "7  %PDF-1.7\\n%����\\n1\\n0\\nobj\\n<>/Metadata\\n40061...   \n",
       "8  清华大学两办信息办公网\\n清办发(2020)\\n第20号\\n关于开展经费收支情况自查自纠工作...   \n",
       "9  %PDF-1.5\\n%����\\n1\\n0\\nobj\\n<>>>\\nendobj\\n2\\n0...   \n",
       "\n",
       "                                                 url  \n",
       "0  http://bmxxfb.cic.tsinghua.edu.cn/docinfo/boar...  \n",
       "1  http://xxbg.cic.tsinghua.edu.cn/oath/detail.js...  \n",
       "2  http://xxbg.cic.tsinghua.edu.cn/oath/detail.js...  \n",
       "3  http://jwcbg.cic.tsinghua.edu.cn/jwcbg/detail_...  \n",
       "4  http://jwcbg.cic.tsinghua.edu.cn/jwcbg/detail_...  \n",
       "5  http://info.tsinghua.edu.cn/html/view/htm/2020...  \n",
       "6  http://bmxxfb.cic.tsinghua.edu.cn/boarddetail_...  \n",
       "7  http://info.tsinghua.edu.cn/html/view/htm/2020...  \n",
       "8  http://xxbg.cic.tsinghua.edu.cn/oath/detail.js...  \n",
       "9  http://info.tsinghua.edu.cn/html/view/htm/18th...  "
      ],
      "text/html": "<div>\n<style scoped>\n    .dataframe tbody tr th:only-of-type {\n        vertical-align: middle;\n    }\n\n    .dataframe tbody tr th {\n        vertical-align: top;\n    }\n\n    .dataframe thead th {\n        text-align: right;\n    }\n</style>\n<table border=\"1\" class=\"dataframe\">\n  <thead>\n    <tr style=\"text-align: right;\">\n      <th></th>\n      <th>title</th>\n      <th>reporter</th>\n      <th>time</th>\n      <th>content</th>\n      <th>url</th>\n    </tr>\n  </thead>\n  <tbody>\n    <tr>\n      <th>0</th>\n      <td>审计公告（2020年第7号）</td>\n      <td>纪委办公室监察室</td>\n      <td>1602172800</td>\n      <td>清华大学\\n当前位置：\\n首页\\n&gt;&gt;\\n通知通告\\n审计公告（2020年第7号）\\n202...</td>\n      <td>http://bmxxfb.cic.tsinghua.edu.cn/docinfo/boar...</td>\n    </tr>\n    <tr>\n      <th>1</th>\n      <td>清校发(2020) 第51号 关于开展“小金库”自查自纠工作的通知</td>\n      <td>纪委办公室监察室</td>\n      <td>1601222400</td>\n      <td>清华大学两办信息办公网\\n(2020)\\n第51号\\n关于开展“小金库”自查自纠工作的通知\\...</td>\n      <td>http://xxbg.cic.tsinghua.edu.cn/oath/detail.js...</td>\n    </tr>\n    <tr>\n      <th>2</th>\n      <td>关于调整2020～2021学年度秋季学期校历及部分节假日放假调课的通知</td>\n      <td>纪委办公室监察室</td>\n      <td>1599753600</td>\n      <td>清华大学两办信息办公网\\n清办发(2020)\\n第29号\\n关于调整2020～2021学年度...</td>\n      <td>http://xxbg.cic.tsinghua.edu.cn/oath/detail.js...</td>\n    </tr>\n    <tr>\n      <th>3</th>\n      <td>2020年秋季学期节假日放假调课安排及调课示意图</td>\n      <td>纪委办公室监察室</td>\n      <td>1599753600</td>\n      <td>教务处办公信息系统\\n2020年秋季学期节假日放假调课安排及调课示意图\\n【分类:\\n综合办...</td>\n      <td>http://jwcbg.cic.tsinghua.edu.cn/jwcbg/detail_...</td>\n    </tr>\n    <tr>\n      <th>4</th>\n      <td>关于2020-2021学年度秋季学期教学工作基本要求的通知</td>\n      <td>纪委办公室监察室</td>\n      <td>1597852800</td>\n      <td>教务处办公信息系统\\n关于2020-2021学年度秋季学期教学工作基本要求的通知\\n【分类:...</td>\n      <td>http://jwcbg.cic.tsinghua.edu.cn/jwcbg/detail_...</td>\n    </tr>\n    <tr>\n      <th>5</th>\n      <td>清华大学2020年8月授予博士、硕士学位情况通报</td>\n      <td>纪委办公室监察室</td>\n      <td>-1</td>\n      <td>%PDF-1.7\\n%����\\n1\\n0\\nobj\\n&lt;&gt;/Metadata\\n12441...</td>\n      <td>http://info.tsinghua.edu.cn/html/view/htm/2020...</td>\n    </tr>\n    <tr>\n      <th>6</th>\n      <td>关于2021-2023年改善基本办学条件项目申报工作安排的补充通知</td>\n      <td>纪委办公室监察室</td>\n      <td>1593878400</td>\n      <td>清华大学\\n当前位置：\\n首页\\n&gt;&gt;\\n办公通知\\n关于2021-2023年改善基本办学条...</td>\n      <td>http://bmxxfb.cic.tsinghua.edu.cn/boarddetail_...</td>\n    </tr>\n    <tr>\n      <th>7</th>\n      <td>清华大学2020年6月授予博士、硕士学位情况通报</td>\n      <td>纪委办公室监察室</td>\n      <td>-1</td>\n      <td>%PDF-1.7\\n%����\\n1\\n0\\nobj\\n&lt;&gt;/Metadata\\n40061...</td>\n      <td>http://info.tsinghua.edu.cn/html/view/htm/2020...</td>\n    </tr>\n    <tr>\n      <th>8</th>\n      <td>关于开展经费收支情况自查自纠工作的通知</td>\n      <td>纪委办公室监察室</td>\n      <td>1591804800</td>\n      <td>清华大学两办信息办公网\\n清办发(2020)\\n第20号\\n关于开展经费收支情况自查自纠工作...</td>\n      <td>http://xxbg.cic.tsinghua.edu.cn/oath/detail.js...</td>\n    </tr>\n    <tr>\n      <th>9</th>\n      <td>清华大学第十八次科研工作讨论会工作方案</td>\n      <td>纪委办公室监察室</td>\n      <td>-1</td>\n      <td>%PDF-1.5\\n%����\\n1\\n0\\nobj\\n&lt;&gt;&gt;&gt;\\nendobj\\n2\\n0...</td>\n      <td>http://info.tsinghua.edu.cn/html/view/htm/18th...</td>\n    </tr>\n  </tbody>\n</table>\n</div>"
     },
     "metadata": {},
     "execution_count": 122
    }
   ],
   "source": [
    "important"
   ]
  },
  {
   "cell_type": "code",
   "execution_count": null,
   "metadata": {},
   "outputs": [],
   "source": []
  },
  {
   "cell_type": "code",
   "execution_count": 54,
   "metadata": {},
   "outputs": [],
   "source": [
    "root = requests.get(\"http://postinfo.tsinghua.edu.cn/f/zhongyaogonggao/more\")\n",
    "root_bs = BeautifulSoup(root.text, 'lxml')"
   ]
  },
  {
   "cell_type": "code",
   "execution_count": 114,
   "metadata": {},
   "outputs": [
    {
     "output_type": "execute_result",
     "data": {
      "text/plain": [
       "<a href=\"http://bmxxfb.cic.tsinghua.edu.cn/docinfo/board/boarddetail.jsp?columnId=sjs07&amp;parentColumnId=sjs&amp;itemSeq=125819\" target=\"_blank\" title=\"审计公告（2020年第7号）\">审计公告（2020年第7号）</a>"
      ]
     },
     "metadata": {},
     "execution_count": 114
    }
   ],
   "source": [
    "root_bs.find_all('tr')[0].find('a')"
   ]
  },
  {
   "cell_type": "code",
   "execution_count": 50,
   "metadata": {},
   "outputs": [],
   "source": [
    "root_bs.find(name='a', string=re.compile('.*下.*.[页].*'))"
   ]
  },
  {
   "cell_type": "code",
   "execution_count": 64,
   "metadata": {},
   "outputs": [],
   "source": [
    "detail_url = root_bs.find_all(name='tr')[0].find('a')['href']"
   ]
  },
  {
   "cell_type": "code",
   "execution_count": 66,
   "metadata": {},
   "outputs": [],
   "source": [
    "detail_page = requests.get(detail_url)\n",
    "detail_bs = BeautifulSoup(detail_page.text, 'lxml')"
   ]
  },
  {
   "cell_type": "code",
   "execution_count": 85,
   "metadata": {},
   "outputs": [
    {
     "output_type": "execute_result",
     "data": {
      "text/plain": [
       "datetime.datetime(2020, 10, 9, 0, 0)"
      ]
     },
     "metadata": {},
     "execution_count": 85
    }
   ],
   "source": [
    "datetime.datetime.strptime(re.findall(\".*[0-9]*年[0-9]*月[0-9]*日.*\", detail_bs.text)[-1].strip(), \"%Y年%m月%d日\")"
   ]
  },
  {
   "cell_type": "code",
   "execution_count": null,
   "metadata": {},
   "outputs": [],
   "source": []
  },
  {
   "cell_type": "code",
   "execution_count": 3,
   "metadata": {},
   "outputs": [],
   "source": [
    "root_url = \"http://postinfo.tsinghua.edu.cn\"\n",
    "enter_url = \"/f/bangongtongzhi/more\"\n",
    "root = requests.get(root_url + enter_url)\n",
    "root_bs = BeautifulSoup(root.text, 'lxml')"
   ]
  },
  {
   "cell_type": "code",
   "execution_count": 4,
   "metadata": {},
   "outputs": [],
   "source": [
    "lis_root=[x for x in root_bs.find_all(name='li') if x.find('em') is not None]"
   ]
  },
  {
   "cell_type": "code",
   "execution_count": 20,
   "metadata": {},
   "outputs": [],
   "source": [
    "li=lis_root[1]"
   ]
  },
  {
   "cell_type": "code",
   "execution_count": 30,
   "metadata": {},
   "outputs": [
    {
     "output_type": "execute_result",
     "data": {
      "text/plain": [
       "'财务处'"
      ]
     },
     "metadata": {},
     "execution_count": 30
    }
   ],
   "source": [
    "lis_root[0].text.split('[')[1].split(']')[0]"
   ]
  },
  {
   "cell_type": "code",
   "execution_count": 32,
   "metadata": {},
   "outputs": [
    {
     "output_type": "execute_result",
     "data": {
      "text/plain": [
       "['[']"
      ]
     },
     "metadata": {},
     "execution_count": 32
    }
   ],
   "source": [
    "re.findall('\\[', \"中央纪委国家监委通报11起“四风”问题典型案例</a>  [纪委办公室监察室]\t\")"
   ]
  },
  {
   "cell_type": "code",
   "execution_count": 29,
   "metadata": {},
   "outputs": [
    {
     "output_type": "execute_result",
     "data": {
      "text/plain": [
       "<li>\n",
       "<em class=\"red fb mr5\"></em>\n",
       "<a href=\"http://bmxxfb.cic.tsinghua.edu.cn/boarddetail_cat.jsp?columnId=02803&amp;itemSeq=125992\" target=\"_blank\">中央纪委国家监委通报11起“四风”问题典型案例</a>  [纪委办公室监察室]\t<!--em class=\"list_ico_new ml10\"></em-->\n",
       "<time datetime=\"2020.10.12\">2020.10.12</time>\n",
       "</li>"
      ]
     },
     "metadata": {},
     "execution_count": 29
    }
   ],
   "source": [
    "li.find()"
   ]
  },
  {
   "cell_type": "code",
   "execution_count": 6,
   "metadata": {},
   "outputs": [],
   "source": [
    "a = li.find('a')\n",
    "ti = li.find('time')"
   ]
  },
  {
   "cell_type": "code",
   "execution_count": 41,
   "metadata": {},
   "outputs": [],
   "source": [
    "detail_url = a['href']\n",
    "if 'http://' not in detail_url and 'https://' not in detail_url:\n",
    "    detail_url = root_url+detail_url"
   ]
  },
  {
   "cell_type": "code",
   "execution_count": 42,
   "metadata": {},
   "outputs": [
    {
     "output_type": "execute_result",
     "data": {
      "text/plain": [
       "'http://xxbg.cic.tsinghua.edu.cn/oath/detail.jsp?boardid=2709&seq=140042'"
      ]
     },
     "metadata": {},
     "execution_count": 42
    }
   ],
   "source": [
    "detail_url"
   ]
  },
  {
   "cell_type": "code",
   "execution_count": 43,
   "metadata": {},
   "outputs": [],
   "source": [
    "detail_page = requests.get(detail_url)\n",
    "detail_bs = BeautifulSoup(detail_page.text, 'lxml')"
   ]
  },
  {
   "cell_type": "code",
   "execution_count": 44,
   "metadata": {},
   "outputs": [
    {
     "output_type": "execute_result",
     "data": {
      "text/plain": [
       "'清华大学两办信息办公网\\n清办发(2020)\\n第32号\\n关于2020年10月毕业生离校工作安排的通知\\n发布时间：2020-10-12\\n访问计数：\\n611\\n【关闭】\\n关于2020年10月毕业生离校工作安排的通知\\n清办发〔2020〕32号\\n各单位：\\n我校2020年10月毕业生离校工作安排如下：\\n时\\n间\\n内\\n容\\n负责部门\\n10月16日8:00\\n开通“离校事务处理系统”\\n（http://info.tsinghua.edu.cn）\\n注册中心\\n信息化技术中心\\n10月21日\\n毕业生离校\\n2020年10月16日（周五）上午8:00开通“离校事务处理系统”。毕业生直接登录清华大学信息门户（http://info.tsinghua.edu.cn）进行离校信息查询。\\n结合疫情防控实际，涉及办理离校手续的各部门已将大部分工作转为线上办理，其中个别手续仍需线下完成，无法返校的毕业生可委托他人办理相关线下离校手续。具体办理说明详见附件。\\n各部门和院系可登录“部门应用系统/学生离校事务处理”，进行离校信息查询及数据处理。请相关部门协助毕业生办理好离校手续。\\n特此通知。\\n附件：2020年10月毕业生离校手续办理说明.pdf\\n校长办公室\\n2020年10月10日\\n【关闭】\\nCopyright©\\n清华大学信息化技术中心\\n建议使用IE5.0以上版本'"
      ]
     },
     "metadata": {},
     "execution_count": 44
    }
   ],
   "source": [
    "'\\n'.join(detail_bs.text.split())"
   ]
  },
  {
   "cell_type": "code",
   "execution_count": 6,
   "metadata": {},
   "outputs": [],
   "source": [
    "cols=['标题', '单位', '时间', '报告地点:', '主办单位:']"
   ]
  },
  {
   "cell_type": "code",
   "execution_count": 7,
   "metadata": {},
   "outputs": [],
   "source": [
    "s= '  [保卫部]\t'"
   ]
  },
  {
   "cell_type": "code",
   "execution_count": 21,
   "metadata": {},
   "outputs": [],
   "source": [
    "li = lis_root[0]"
   ]
  },
  {
   "cell_type": "code",
   "execution_count": 75,
   "metadata": {},
   "outputs": [],
   "source": [
    "a=li.find('a')\n",
    "ti=li.find('time')"
   ]
  },
  {
   "cell_type": "code",
   "execution_count": 87,
   "metadata": {},
   "outputs": [],
   "source": [
    "temp = re.match(a['href'], 'http.*')"
   ]
  },
  {
   "cell_type": "code",
   "execution_count": 88,
   "metadata": {},
   "outputs": [
    {
     "data": {
      "text/plain": [
       "True"
      ]
     },
     "execution_count": 88,
     "metadata": {},
     "output_type": "execute_result"
    }
   ],
   "source": [
    "temp is None"
   ]
  },
  {
   "cell_type": "code",
   "execution_count": 58,
   "metadata": {},
   "outputs": [
    {
     "data": {
      "text/plain": [
       "'保卫部'"
      ]
     },
     "execution_count": 58,
     "metadata": {},
     "output_type": "execute_result"
    }
   ],
   "source": [
    "s.strip().strip('[').strip(']')"
   ]
  },
  {
   "cell_type": "code",
   "execution_count": 77,
   "metadata": {},
   "outputs": [
    {
     "data": {
      "text/plain": [
       "[<li>\n",
       " <em class=\"red fb mr5\"></em>\n",
       " <a href=\"/node/280440\" target=\"_blank\">关于举行合同管理制度宣讲与业务专项培训的通知</a>  [法务办]\t<!--em class=\"list_ico_new ml10\"></em-->\n",
       " <time datetime=\"2020.10.09\">2020.10.09</time>\n",
       " </li>,\n",
       " <li>\n",
       " <em class=\"red fb mr5\"></em>\n",
       " <a href=\"http://bmxxfb.cic.tsinghua.edu.cn/boarddetail_cat.jsp?columnId=bwb01&amp;itemSeq=125829\" target=\"_blank\">关于10月10日熙春路部分路段实行临时交通管理的通知</a>  [保卫部]\t<!--em class=\"list_ico_new ml10\"></em-->\n",
       " <time datetime=\"2020.10.09\">2020.10.09</time>\n",
       " </li>,\n",
       " <li>\n",
       " <em class=\"red fb mr5\"></em>\n",
       " <a href=\"http://xsc.tsinghua.edu.cn/info/tzhigg_gg/21352\" target=\"_blank\">2020年清华大学本科生台湾、港澳学生宝钢奖学金答辩结果公示</a>  [学生处]\t<!--em class=\"list_ico_new ml10\"></em-->\n",
       " <time datetime=\"2020.10.09\">2020.10.09</time>\n",
       " </li>,\n",
       " <li>\n",
       " <em class=\"red fb mr5\"></em>\n",
       " <a href=\"http://xxbg.cic.tsinghua.edu.cn/oath/detail.jsp?boardid=2709&amp;seq=139995\" target=\"_blank\">清办发(2020) 第31号 清华大学关于开展抗击新冠肺炎疫情表彰评选推荐工作的通知</a>  [党办校办]\t<!--em class=\"list_ico_new ml10\"></em-->\n",
       " <time datetime=\"2020.10.09\">2020.10.09</time>\n",
       " </li>,\n",
       " <li>\n",
       " <em class=\"red fb mr5\"></em>\n",
       " <a href=\"http://gjcbg.cic.tsinghua.edu.cn/gjc/detail.jsp?boardid=6902&amp;seq=14194\" target=\"_blank\">2021年加拿大英属哥伦比亚大学暑期课程线上说明会通知</a>  [国际合作与交流处]\t<!--em class=\"list_ico_new ml10\"></em-->\n",
       " <time datetime=\"2020.10.09\">2020.10.09</time>\n",
       " </li>,\n",
       " <li>\n",
       " <em class=\"red fb mr5\"></em>\n",
       " <a href=\"http://yjsy.cic.tsinghua.edu.cn/boarddetail_cat.jsp?columnId=0010107&amp;itemSeq=46745\" target=\"_blank\">2020年“疫情防控期间研究生招生先进个人”候选人公示</a>  [研究生院]\t<!--em class=\"list_ico_new ml10\"></em-->\n",
       " <time datetime=\"2020.10.08\">2020.10.08</time>\n",
       " </li>,\n",
       " <li>\n",
       " <em class=\"red fb mr5\"></em>\n",
       " <a href=\"http://bmxxfb.cic.tsinghua.edu.cn/boarddetail_cat.jsp?columnId=zzb01&amp;itemSeq=125730\" target=\"_blank\">关于举办2020年干部综合素养提升培训班的预通知</a>  [组织部]\t<!--em class=\"list_ico_new ml10\"></em-->\n",
       " <time datetime=\"2020.10.08\">2020.10.08</time>\n",
       " </li>,\n",
       " <li>\n",
       " <em class=\"red fb mr5\"></em>\n",
       " <a href=\"http://bmxxfb.cic.tsinghua.edu.cn/boarddetail_cat.jsp?columnId=dwxcb01&amp;itemSeq=125690\" target=\"_blank\">关于组织青年教职工参加主题实践活动的通知</a>  [党委宣传部]\t<!--em class=\"list_ico_new ml10\"></em-->\n",
       " <time datetime=\"2020.10.07\">2020.10.07</time>\n",
       " </li>,\n",
       " <li>\n",
       " <em class=\"red fb mr5\"></em>\n",
       " <a href=\"http://bmxxfb.cic.tsinghua.edu.cn/boarddetail_cat.jsp?columnId=xtw01&amp;itemSeq=125672\" target=\"_blank\">关于“沐风”学生文艺骨干培养计划第七期公开选拔报名的通知</a>  [校团委]\t<!--em class=\"list_ico_new ml10\"></em-->\n",
       " <time datetime=\"2020.10.07\">2020.10.07</time>\n",
       " </li>,\n",
       " <li>\n",
       " <em class=\"red fb mr5\"></em>\n",
       " <a href=\"http://ghxt.cic.tsinghua.edu.cn/ghxt/detail.jsp?boardid=2301&amp;seq=5418\" target=\"_blank\">关于分工会优秀特色活动项目评选会的通知</a>  [校工会]\t<!--em class=\"list_ico_new ml10\"></em-->\n",
       " <time datetime=\"2020.10.07\">2020.10.07</time>\n",
       " </li>]"
      ]
     },
     "execution_count": 77,
     "metadata": {},
     "output_type": "execute_result"
    }
   ],
   "source": [
    "lis_root"
   ]
  },
  {
   "cell_type": "code",
   "execution_count": 25,
   "metadata": {},
   "outputs": [
    {
     "data": {
      "text/plain": [
       "<li class=\"pager-next\"><a href=\"/f/bangongtongzhi/more?field_bgtz_fl_tid=All&amp;page=1\" title=\"去下一个页面\">下一页 ›</a></li>"
      ]
     },
     "execution_count": 25,
     "metadata": {},
     "output_type": "execute_result"
    }
   ],
   "source": [
    "data_dict={}\n",
    "# total_count=0\n",
    "# import time\n",
    "for tag_root in trs_root:\n",
    "#     start=time.time()\n",
    "    tag_data_list=[]\n",
    "    lec_node=tag_root.find('a')\n",
    "    if lec_node is None:\n",
    "        break\n",
    "    lec_tag=lec_node.string\n",
    "    data_dict[lec_tag]=[]\n",
    "    lec_url=lec_node['href']\n",
    "    tag_page=requests.get(root+lec_url)\n",
    "#     count=0\n",
    "    while True:\n",
    "        bs_tag=BeautifulSoup(tag_page.text, 'lxml')\n",
    "        trs_lec=bs_tag.find_all('tr')\n",
    "        for tr in trs_lec:\n",
    "            if tr.get('bgcolor', None) is not None and tr.get('class', None) is None:\n",
    "                detail_url=tr.find_all('td')[1].find('a')['href']\n",
    "                detail_link=root+detail_url\n",
    "                detail_page=requests.get(detail_link)\n",
    "                bs_detail=BeautifulSoup(detail_page.text, 'lxml')\n",
    "                trs_detail=bs_detail.find_all('tr')\n",
    "                tr_detail_dict={}\n",
    "                for tr in trs_detail:\n",
    "                    tds=tr.find_all('td')\n",
    "                    if len(tds)>0:\n",
    "                        node1=tds[0].find('div')\n",
    "                        if node1 is not None and node1.string is not None:\n",
    "                            s=node1.string.strip('')\n",
    "                            s=s.strip()\n",
    "                            if s in cols:\n",
    "                                tr_detail_dict[s]=tds[1].string\n",
    "                                \n",
    "                            tr_detail_dict['链接']=detail_link\n",
    "                tag_data_list.append(tr_detail_dict)\n",
    "#                 #columns: '报告时间','标题','报告人','地点','链接'\n",
    "#                 cols=tr.find_all('td')\n",
    "#                 cols[1]=cols[1].find('a')\n",
    "#                 data_dict[lec_tag].append([col.string for col in cols] + [root+nextpage_url])\n",
    "        nextpage_node=bs_tag.find('a', string=re.compile('.*下.*页.*'))\n",
    "        if nextpage_node is None:\n",
    "            break\n",
    "        nextpage_url=nextpage_node['href']\n",
    "        tag_page=requests.get(root+nextpage_url)\n",
    "#         count+=1\n",
    "#         if count >= 2:\n",
    "#             break\n",
    "#         print(count)\n",
    "    data_dict[lec_tag]=pd.DataFrame.from_records(tag_data_list)\n",
    "#     end=time.time()\n",
    "#     print(lec_tag, end-start)\n",
    "#     total_count+=1\n",
    "#     if total_count>=2:\n",
    "#         break"
   ]
  },
  {
   "cell_type": "code",
   "execution_count": 61,
   "metadata": {},
   "outputs": [],
   "source": [
    "nextpage_node=bs_root.find('a', string=re.compile('.*下.*页.*'))"
   ]
  },
  {
   "cell_type": "code",
   "execution_count": 64,
   "metadata": {},
   "outputs": [
    {
     "data": {
      "text/plain": [
       "'/f/bangongtongzhi/more?field_bgtz_fl_tid=All&page=1'"
      ]
     },
     "execution_count": 64,
     "metadata": {},
     "output_type": "execute_result"
    }
   ],
   "source": [
    "nextpage_node['href']"
   ]
  },
  {
   "cell_type": "code",
   "execution_count": null,
   "metadata": {},
   "outputs": [],
   "source": []
  }
 ],
 "metadata": {
  "kernelspec": {
   "display_name": "Python 3",
   "language": "python",
   "name": "python3"
  },
  "language_info": {
   "codemirror_mode": {
    "name": "ipython",
    "version": 3
   },
   "file_extension": ".py",
   "mimetype": "text/x-python",
   "name": "python",
   "nbconvert_exporter": "python",
   "pygments_lexer": "ipython3",
   "version": "3.8.3-final"
  }
 },
 "nbformat": 4,
 "nbformat_minor": 4
}